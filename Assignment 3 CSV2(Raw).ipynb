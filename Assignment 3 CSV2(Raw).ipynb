{
 "cells": [
  {
   "cell_type": "markdown",
   "id": "0d6e0d41",
   "metadata": {},
   "source": [
    "Please scrap the data from the below mentioned link.\n",
    "\n",
    "https://www.imdb.com/search/title/?genres=action&sort=user_rating,desc&title_type=feature&num_votes=25000,&pf_rd_m=A2FGELUUNOQJNL&pf_rd_p=f11158cc-b50b-4c4d-b0a2-40b32863395b&pf_rd_r=XZ8X52H1R40B7KG5SNZ9&pf_rd_s=right-6&pf_rd_t=15506&pf_rd_i=top&ref_=chttp_gnr_1\n",
    "\n",
    "\n",
    "There are two csv files to be created with the following features:\n",
    "CSV1 (raw) - Name, year, rating, director, duration of the movie, metascore\n",
    "\n",
    "CSV2 (raw)  - Name, stars (cast), votes, genre, gross collection, popularity, certification(PG, PG13, PG14 ,...etc)\n",
    "\n",
    "Use preprocessing techniques to normalize the data further:\n",
    "create new columns where more than one field is present in any single feature like cast, genre, directors, etc.\n",
    "\n",
    "Please submit four files in the submissions:\n",
    "CSV1_raw, CSV2_raw, CSV1_normalized and CSV2_normalized."
   ]
  },
  {
   "cell_type": "code",
   "execution_count": 1,
   "id": "62c90d85",
   "metadata": {},
   "outputs": [],
   "source": [
    "import selenium\n",
    "from selenium import webdriver\n",
    "from selenium.webdriver.common.by import By\n",
    "from selenium.webdriver.support.ui import WebDriverWait\n",
    "from selenium.webdriver.support import expected_conditions as EC\n",
    "from selenium.common.exceptions import TimeoutException\n",
    "from time import sleep\n",
    "import csv"
   ]
  },
  {
   "cell_type": "code",
   "execution_count": 2,
   "id": "092a5e94",
   "metadata": {},
   "outputs": [
    {
     "name": "stderr",
     "output_type": "stream",
     "text": [
      "C:\\Users\\pc\\AppData\\Local\\Temp\\ipykernel_14320\\80213923.py:2: DeprecationWarning: executable_path has been deprecated, please pass in a Service object\n",
      "  driver = webdriver.Chrome(r\"C:\\Users\\pc\\Downloads\\chromedriver_win32\\chromedriver.exe\")\n"
     ]
    }
   ],
   "source": [
    "# connect to the driver\n",
    "driver = webdriver.Chrome(r\"C:\\Users\\pc\\Downloads\\chromedriver_win32\\chromedriver.exe\")"
   ]
  },
  {
   "cell_type": "code",
   "execution_count": 3,
   "id": "71235d5f",
   "metadata": {},
   "outputs": [],
   "source": [
    "driver.get('https://www.imdb.com/search/title/?genres=action&sort=user_rating,desc&title_type=feature&num_votes=25000,&pf_rd_m=A2FGELUUNOQJNL&pf_rd_p=f11158cc-b50b-4c4d-b0a2-40b32863395b&pf_rd_r=XZ8X52H1R40B7KG5SNZ9&pf_rd_s=right-6&pf_rd_t=15506&pf_rd_i=top&ref_=chttp_gnr_1')"
   ]
  },
  {
   "cell_type": "code",
   "execution_count": 4,
   "id": "9d776da5",
   "metadata": {},
   "outputs": [
    {
     "name": "stdout",
     "output_type": "stream",
     "text": [
      "['The Dark Knight', 'The Lord of the Rings: The Return of the King', 'The Lord of the Rings: The Fellowship of the Ring', 'Inception', 'The Lord of the Rings: The Two Towers', 'The Matrix', 'Star Wars: Episode V - The Empire Strikes Back', 'Soorarai Pottru', 'Star Wars: Episode IV - A New Hope', 'Terminator 2: Judgment Day', 'Seven Samurai', 'Harakiri', 'Sita Ramam', 'Gladiator', 'Léon: The Professional', 'Kaithi', 'Raiders of the Lost Ark', 'Avengers: Endgame', 'The Dark Knight Rises', 'Avengers: Infinity War', 'Oldboy', 'Spider-Man: Into the Spider-Verse', 'Aliens', 'Asuran', 'Top Gun: Maverick', 'Heat', 'Star Wars: Episode VI - Return of the Jedi', 'Kantara', 'Princess Mononoke', 'North by Northwest', 'Vikram', 'Dangal', 'K.G.F: Chapter 2', 'Shershaah', 'Raatchasan', 'Spider-Man: No Way Home', 'Jurassic Park', '1917', 'Indiana Jones and the Last Crusade', 'Batman Begins', 'Kill Bill: Vol. 1', 'Lock, Stock and Two Smoking Barrels', 'Die Hard', 'V for Vendetta', 'Warrior', 'Demon Slayer the Movie: Mugen Train', 'Ran', 'Baahubali 2: The Conclusion', 'Gangs of Wasseypur', 'Yojimbo']\n"
     ]
    }
   ],
   "source": [
    "Name=[]\n",
    "name=driver.find_elements(By.XPATH,'/html/body/div[2]/div/div[2]/div[3]/div[1]/div/div[3]/div/div/div[3]/h3/a')\n",
    "for i in name[0:len(name)]:\n",
    "    Name.append(i.text)\n",
    "print(Name)\n"
   ]
  },
  {
   "cell_type": "code",
   "execution_count": 5,
   "id": "b14a6699",
   "metadata": {},
   "outputs": [
    {
     "name": "stdout",
     "output_type": "stream",
     "text": [
      "[' Christian Bale, Heath Ledger, Aaron Eckhart, Michael Caine', ' Elijah Wood, Viggo Mortensen, Ian McKellen, Orlando Bloom', ' Elijah Wood, Ian McKellen, Orlando Bloom, Sean Bean', ' Leonardo DiCaprio, Joseph Gordon-Levitt, Elliot Page, Ken Watanabe', ' Elijah Wood, Ian McKellen, Viggo Mortensen, Orlando Bloom', ' Keanu Reeves, Laurence Fishburne, Carrie-Anne Moss, Hugo Weaving', ' Mark Hamill, Harrison Ford, Carrie Fisher, Billy Dee Williams', ' Suriya, Paresh Rawal, Aparna Balamurali, Urvashi', ' Mark Hamill, Harrison Ford, Carrie Fisher, Alec Guinness', ' Arnold Schwarzenegger, Linda Hamilton, Edward Furlong, Robert Patrick', ' Toshirô Mifune, Takashi Shimura, Keiko Tsushima, Yukiko Shimazaki', ' Tatsuya Nakadai, Akira Ishihama, Shima Iwashita, Tetsurô Tanba', ' Dulquer Salmaan, Mrunal Thakur, Rashmika Mandanna, Sumanth', ' Russell Crowe, Joaquin Phoenix, Connie Nielsen, Oliver Reed', ' Jean Reno, Gary Oldman, Natalie Portman, Danny Aiello', ' Karthi, Narain, Arjun Das, George Maryan', ' Harrison Ford, Karen Allen, Paul Freeman, John Rhys-Davies', ' Robert Downey Jr., Chris Evans, Mark Ruffalo, Chris Hemsworth', ' Christian Bale, Tom Hardy, Anne Hathaway, Gary Oldman', ' Robert Downey Jr., Chris Hemsworth, Mark Ruffalo, Chris Evans', ' Choi Min-sik, Yoo Ji-tae, Kang Hye-jeong, Kim Byeong-Ok', ' Shameik Moore, Jake Johnson, Hailee Steinfeld, Mahershala Ali', ' Sigourney Weaver, Michael Biehn, Carrie Henn, Paul Reiser', ' Dhanush, Manju Warrier, Prakash Raj, Pasupathy', ' Tom Cruise, Jennifer Connelly, Miles Teller, Val Kilmer', ' Al Pacino, Robert De Niro, Val Kilmer, Jon Voight', ' Mark Hamill, Harrison Ford, Carrie Fisher, Billy Dee Williams', ' Rishab Shetty, Kishore Kumar G., Achyuth Kumar, Sapthami Gowda', ' Yôji Matsuda, Yuriko Ishida, Yûko Tanaka, Billy Crudup', ' Cary Grant, Eva Marie Saint, James Mason, Jessie Royce Landis', ' Kamal Haasan, Vijay Sethupathi, Fahadh Faasil, Narain', ' Aamir Khan, Sakshi Tanwar, Fatima Sana Shaikh, Sanya Malhotra', ' Yash, Sanjay Dutt, Raveena Tandon, Srinidhi Shetty', ' Sidharth Malhotra, Kiara Advani, Shiv Panditt, Pranay Pachauri', ' Vishnu Vishal, Amala Paul, Radha Ravi, Sangili Murugan', ' Tom Holland, Zendaya, Benedict Cumberbatch, Jacob Batalon', ' Sam Neill, Laura Dern, Jeff Goldblum, Richard Attenborough', ' Dean-Charles Chapman, George MacKay, Daniel Mays, Colin Firth', ' Harrison Ford, Sean Connery, Alison Doody, Denholm Elliott', ' Christian Bale, Michael Caine, Ken Watanabe, Liam Neeson', ' Uma Thurman, David Carradine, Daryl Hannah, Michael Madsen', ' Jason Flemyng, Dexter Fletcher, Nick Moran, Jason Statham', ' Bruce Willis, Alan Rickman, Bonnie Bedelia, Reginald VelJohnson', ' Hugo Weaving, Natalie Portman, Rupert Graves, Stephen Rea', ' Tom Hardy, Nick Nolte, Joel Edgerton, Jennifer Morrison', ' Natsuki Hanae, Akari Kitô, Yoshitsugu Matsuoka, Hiro Shimono', ' Tatsuya Nakadai, Akira Terao, Jinpachi Nezu, Daisuke Ryû', ' Prabhas, Rana Daggubati, Anushka Shetty, Tamannaah Bhatia', ' Manoj Bajpayee, Nawazuddin Siddiqui, Tigmanshu Dhulia, Richa Chadha', ' Toshirô Mifune, Eijirô Tôno, Tatsuya Nakadai, Yôko Tsukasa']\n"
     ]
    }
   ],
   "source": [
    "Star=[]\n",
    "st=driver.find_elements(By.XPATH,\"//div[@class='lister-item-content']/p[@class='']\")\n",
    "for i in st[0:50]:\n",
    "    Star.append(i.text.split(\"|\")[1].split(\":\")[1])\n",
    "#     Star.append(S.split(\":\")[1])\n",
    "print(Star)"
   ]
  },
  {
   "cell_type": "code",
   "execution_count": 6,
   "id": "dcf87004",
   "metadata": {},
   "outputs": [
    {
     "name": "stdout",
     "output_type": "stream",
     "text": [
      "['2689425', '1869361', '1898727', '2386784', '1687730', '1937522', '1308083', '118675', '1380486', '1112854', '349979', '59593', '57579', '1520115', '1177242', '34860', '978030', '1159267', '1725675', '1104677', '589302', '548041', '726514', '30708', '551353', '666245', '1066873', '92636', '401798', '332210', '62347', '195092', '137743', '123772', '46234', '779288', '1003720', '609303', '764663', '1489221', '1130212', '590321', '894985', '1133162', '478710', '61979', '127789', '105153', '98548', '124760']\n",
      "50\n"
     ]
    }
   ],
   "source": [
    "Vote=[]\n",
    "vote=driver.find_elements(By.XPATH,'//span[@name=\"nv\"][1]')\n",
    "for i in vote[0:50]:\n",
    "    Vote.append(i.get_attribute('data-value'))\n",
    "print(Vote)\n",
    "print(len(Vote))"
   ]
  },
  {
   "cell_type": "code",
   "execution_count": 7,
   "id": "c3807152",
   "metadata": {},
   "outputs": [
    {
     "name": "stdout",
     "output_type": "stream",
     "text": [
      "['Action, Crime, Drama', 'Action, Adventure, Drama', 'Action, Adventure, Drama', 'Action, Adventure, Sci-Fi', 'Action, Adventure, Drama', 'Action, Sci-Fi', 'Action, Adventure, Fantasy', 'Action, Drama', 'Action, Adventure, Fantasy', 'Action, Sci-Fi', 'Action, Drama', 'Action, Drama, Mystery', 'Action, Drama, Mystery', 'Action, Adventure, Drama', 'Action, Crime, Drama', 'Action, Adventure, Crime', 'Action, Adventure', 'Action, Adventure, Drama', 'Action, Drama, Thriller', 'Action, Adventure, Sci-Fi', 'Action, Drama, Mystery', 'Animation, Action, Adventure', 'Action, Adventure, Sci-Fi', 'Action, Drama', 'Action, Drama', 'Action, Crime, Drama', 'Action, Adventure, Fantasy', 'Action, Adventure, Drama', 'Animation, Action, Adventure', 'Action, Adventure, Mystery', 'Action, Crime, Thriller', 'Action, Biography, Drama', 'Action, Crime, Drama', 'Action, Biography, Drama', 'Action, Crime, Drama', 'Action, Adventure, Fantasy', 'Action, Adventure, Sci-Fi', 'Action, Drama, War', 'Action, Adventure', 'Action, Crime, Drama', 'Action, Crime, Drama', 'Action, Comedy, Crime', 'Action, Thriller', 'Action, Drama, Sci-Fi', 'Action, Drama, Sport', 'Animation, Action, Adventure', 'Action, Drama, War', 'Action, Drama', 'Action, Comedy, Crime', 'Action, Drama, Thriller']\n"
     ]
    },
    {
     "data": {
      "text/plain": [
       "50"
      ]
     },
     "execution_count": 7,
     "metadata": {},
     "output_type": "execute_result"
    }
   ],
   "source": [
    "Gener=[]\n",
    "gen=driver.find_elements(By.XPATH,'//span[@class=\"genre\"]')\n",
    "for i in gen[0:len(gen)]:\n",
    "    Gener.append(i.text)\n",
    "print(Gener)\n",
    "len(Gener)"
   ]
  },
  {
   "cell_type": "code",
   "execution_count": 8,
   "id": "e49550b0",
   "metadata": {},
   "outputs": [],
   "source": [
    "# Gross_collection=[]\n",
    "# gross=driver.find_elements(By.XPATH,'//span[@name=\"nv\"][2]')\n",
    "# for i in range(0,50):\n",
    "# #     if len(gross[i].text)>1:\n",
    "#         Gross_collection.append(gross[i].text)\n",
    "# #     else:\n",
    "#         Gross_collection.append(\"N/A\")  \n",
    "# print(Gross_collection)\n",
    "# len(Gross_collection)\n"
   ]
  },
  {
   "cell_type": "code",
   "execution_count": 9,
   "id": "e42aa1b6",
   "metadata": {},
   "outputs": [
    {
     "name": "stdout",
     "output_type": "stream",
     "text": [
      "['534.86', '377.85', '315.54', '292.58', '342.55', '171.48', '290.48', '322.74', '204.84', '0.27', '187.71', '19.50', '248.16', '858.37', '448.14', '678.82', '0.71', '190.24', '85.16', '718.73', '67.44', '309.13', '2.38', '13.28', '12.39', '6.60', '804.75', '402.45', '159.23', '197.17', '206.85', '70.10', '3.90', '83.01', '70.51', '13.66', '47.70', '4.14', '20.19']\n",
      "39\n"
     ]
    }
   ],
   "source": [
    "Gross_collection=[]\n",
    "gross=driver.find_elements(By.XPATH,'//span[@name=\"nv\"][2]')\n",
    "for i in gross[0:len(gross)]:\n",
    "    try:\n",
    "        Gross_collection.append((i.text).split(\"$\")[1].split(\"M\")[0])\n",
    "    except:\n",
    "        gross = \"N/A\"\n",
    "print(Gross_collection)\n",
    "print(len(Gross_collection))"
   ]
  },
  {
   "cell_type": "code",
   "execution_count": 10,
   "id": "3f480378",
   "metadata": {},
   "outputs": [
    {
     "name": "stdout",
     "output_type": "stream",
     "text": [
      "['9.0', '9.0', '8.8', '8.8', '8.8', '8.7', '8.7', '8.7', '8.6', '8.6', '8.6', '8.6', '8.6', '8.5', '8.5', '8.5', '8.4', '8.4', '8.4', '8.4', '8.4', '8.4', '8.4', '8.4', '8.3', '8.3', '8.3', '8.3', '8.3', '8.3', '8.3', '8.3', '8.3', '8.3', '8.3', '8.2', '8.2', '8.2', '8.2', '8.2', '8.2', '8.2', '8.2', '8.2', '8.2', '8.2', '8.2', '8.2', '8.2', '8.2']\n",
      "50\n"
     ]
    }
   ],
   "source": [
    "Popularity=[]\n",
    "pop=driver.find_elements(By.XPATH,\"/html/body/div[2]/div/div[2]/div[3]/div[1]/div/div[3]/div/div//div//strong\")\n",
    "for i in pop[0:len(pop)]:\n",
    "    Popularity.append(i.text)\n",
    "print(Popularity)\n",
    "print(len(Popularity))"
   ]
  },
  {
   "cell_type": "code",
   "execution_count": 11,
   "id": "3b8edce6",
   "metadata": {},
   "outputs": [
    {
     "name": "stdout",
     "output_type": "stream",
     "text": [
      "['PG-13', 'PG-13', 'PG-13', 'PG-13', 'PG-13', 'R', 'PG', 'TV-MA', 'PG', 'R', 'Not Rated', 'Not Rated', 'U', 'R', 'R', 'Not Rated', 'PG', 'PG-13', 'PG-13', 'PG-13', 'R', 'PG', 'R', 'Not Rated', 'PG-13', 'R', 'PG', 'UA', 'PG-13', 'Approved', 'UA', 'Not Rated', 'Not Rated', 'TV-14', 'Not Rated', 'PG-13', 'PG-13', 'R', 'PG-13', 'PG-13', 'R', 'R', 'R', 'R', 'PG-13', 'R', 'R', 'Not Rated', 'Not Rated', 'Not Rated']\n"
     ]
    },
    {
     "data": {
      "text/plain": [
       "50"
      ]
     },
     "execution_count": 11,
     "metadata": {},
     "output_type": "execute_result"
    }
   ],
   "source": [
    "Certification=[]\n",
    "cert=driver.find_elements(By.XPATH,'//span[@class=\"certificate\"]')\n",
    "for i in cert[0:len(name)]:\n",
    "    Certification.append(i.text)\n",
    "print(Certification)\n",
    "len(Certification)"
   ]
  },
  {
   "cell_type": "code",
   "execution_count": null,
   "id": "e30e6c0a",
   "metadata": {},
   "outputs": [],
   "source": []
  },
  {
   "cell_type": "code",
   "execution_count": 12,
   "id": "4ad93ad4",
   "metadata": {},
   "outputs": [],
   "source": [
    "Name=[]\n",
    "Stars=[]\n",
    "Votes=[]\n",
    "Genre=[]\n",
    "Gross_collection=[]\n",
    "Popularity=[]\n",
    "Certification=[]"
   ]
  },
  {
   "cell_type": "code",
   "execution_count": 13,
   "id": "e686e3a0",
   "metadata": {},
   "outputs": [
    {
     "data": {
      "text/plain": [
       "55"
      ]
     },
     "execution_count": 13,
     "metadata": {},
     "output_type": "execute_result"
    }
   ],
   "source": [
    "csv_file_raw = open(\"CSV2_raw.csv\", \"w\", newline=\"\")\n",
    "csv_writer_raw = csv.writer(csv_file_raw)\n",
    "csv_writer_raw.writerow([\"Name\", \"Stars\", \"Votes\", \"Genre\", \"Gross\", \"Popularity\", \"Certification\"])\n"
   ]
  },
  {
   "cell_type": "code",
   "execution_count": 14,
   "id": "02c8ae9e",
   "metadata": {},
   "outputs": [],
   "source": [
    "start=0\n",
    "end= 35\n",
    "for page in range(start,end):\n",
    "    name=driver.find_elements(By.XPATH,'/html/body/div[2]/div/div[2]/div[3]/div[1]/div/div[3]/div/div/div[3]/h3/a')\n",
    "    for i in name[0:len(name)]:\n",
    "        Name.append(i.text)\n",
    "    st=driver.find_elements(By.XPATH,\"//div[@class='lister-item-content']/p[@class='']\")\n",
    "    for i in st[0:50]:\n",
    "        Stars.append(i.text.split(\"|\")[1].split(\":\")[1])\n",
    "    vote=driver.find_elements(By.XPATH,'//span[@name=\"nv\"][1]')\n",
    "    for i in vote[0:50]:\n",
    "        Votes.append(i.get_attribute('data-value'))\n",
    "    gen=driver.find_elements(By.XPATH,'//span[@class=\"genre\"]')\n",
    "    for i in gen[0:len(gen)]:\n",
    "        Genre.append(i.text)\n",
    "    gross=driver.find_elements(By.XPATH,'//span[@name=\"nv\"][2]')\n",
    "    for i in gross[0:len(gross)]:\n",
    "        try:\n",
    "            Gross_collection.append((i.text).split(\"$\")[1].split(\"M\")[0]) if len(i.text) > 1 else 'N/A'\n",
    "        except:\n",
    "            gross = \"\"\n",
    "    pop=driver.find_elements(By.XPATH,\"/html/body/div[2]/div/div[2]/div[3]/div[1]/div/div[3]/div/div//div//strong\")\n",
    "    for i in pop[0:len(pop)]:\n",
    "        Popularity.append(i.text)\n",
    "    certification=driver.find_elements(By.XPATH,'//span[@class=\"certificate\"]')\n",
    "    for i in certification[0:len(certification)]:\n",
    "        Certification.append(i.text)if len(i.text) > 0 else 'N/A'\n",
    "      # wait up to 10s before locating next button\n",
    "    try:    \n",
    "        next_button = WebDriverWait(driver, 10).until(EC.element_to_be_clickable((By.XPATH, \"//a[contains(@class, 'page') and contains(text(), 'Next')]\")))\n",
    "\n",
    "        # scroll down to button using Javascript\n",
    "        driver.execute_script(\"arguments[0].scrollIntoView(true);\", next_button)\n",
    "\n",
    "        # click the button\n",
    "    #    next_button.click() this throws exception -- replace with JS click\n",
    "        driver.execute_script(\"arguments[0].click();\", next_button)\n",
    "\n",
    "        # I never recommend using sleep like this, but WebDriverWait is not waiting on next button to fully load, so it goes stale.\n",
    "        sleep(5)\n",
    "\n",
    "    # case: next button no longer exists, we have reached the end\n",
    "    except TimeoutException:\n",
    "        break\n",
    "     # Write the data to the CSV file\n",
    "#     csv_writer_raw.writerow([Name, Stars, Votes, Genre, Gross_collection, Popularity, Certification])\n",
    "#     next_button=driver.find_element(By.XPATH,'//a[@class=\"lister-page-next next-page\"]')\n",
    "#     next_button.click() \n",
    "#    time.sleep(3)"
   ]
  },
  {
   "cell_type": "code",
   "execution_count": 15,
   "id": "66e5c5e0",
   "metadata": {},
   "outputs": [
    {
     "name": "stdout",
     "output_type": "stream",
     "text": [
      "1725 1725 1725 1725 1461 1725 1715\n"
     ]
    }
   ],
   "source": [
    "print(len(Name),len(Stars),len(Votes),len(Genre),len(Gross_collection),len(Popularity),len(Certification))"
   ]
  },
  {
   "cell_type": "code",
   "execution_count": 20,
   "id": "a1af21d0",
   "metadata": {},
   "outputs": [],
   "source": [
    "import pandas as pd\n",
    "df=pd.DataFrame([Name,Stars,Votes,Genre,Gross_collection,Popularity,Certification])\n",
    "df1=df.T\n",
    "df1.to_csv(\"csv2(raw).csv\",index=False,header=['Name','Stars','Votes','Genre','Gross_collection','Popularity','Certification'])"
   ]
  },
  {
   "cell_type": "code",
   "execution_count": 21,
   "id": "a23db9a7",
   "metadata": {},
   "outputs": [
    {
     "data": {
      "text/html": [
       "<div>\n",
       "<style scoped>\n",
       "    .dataframe tbody tr th:only-of-type {\n",
       "        vertical-align: middle;\n",
       "    }\n",
       "\n",
       "    .dataframe tbody tr th {\n",
       "        vertical-align: top;\n",
       "    }\n",
       "\n",
       "    .dataframe thead th {\n",
       "        text-align: right;\n",
       "    }\n",
       "</style>\n",
       "<table border=\"1\" class=\"dataframe\">\n",
       "  <thead>\n",
       "    <tr style=\"text-align: right;\">\n",
       "      <th></th>\n",
       "      <th>Name</th>\n",
       "      <th>Stars</th>\n",
       "      <th>Votes</th>\n",
       "      <th>Genre</th>\n",
       "      <th>Gross_collection</th>\n",
       "      <th>Popularity</th>\n",
       "      <th>Certification</th>\n",
       "    </tr>\n",
       "  </thead>\n",
       "  <tbody>\n",
       "    <tr>\n",
       "      <th>0</th>\n",
       "      <td>The Dark Knight</td>\n",
       "      <td>Christian Bale, Heath Ledger, Aaron Eckhart, ...</td>\n",
       "      <td>2689425</td>\n",
       "      <td>Action, Crime, Drama</td>\n",
       "      <td>534.86</td>\n",
       "      <td>9.0</td>\n",
       "      <td>PG-13</td>\n",
       "    </tr>\n",
       "    <tr>\n",
       "      <th>1</th>\n",
       "      <td>The Lord of the Rings: The Return of the King</td>\n",
       "      <td>Elijah Wood, Viggo Mortensen, Ian McKellen, O...</td>\n",
       "      <td>1869361</td>\n",
       "      <td>Action, Adventure, Drama</td>\n",
       "      <td>377.85</td>\n",
       "      <td>9.0</td>\n",
       "      <td>PG-13</td>\n",
       "    </tr>\n",
       "    <tr>\n",
       "      <th>2</th>\n",
       "      <td>The Lord of the Rings: The Fellowship of the Ring</td>\n",
       "      <td>Elijah Wood, Ian McKellen, Orlando Bloom, Sea...</td>\n",
       "      <td>1898727</td>\n",
       "      <td>Action, Adventure, Drama</td>\n",
       "      <td>315.54</td>\n",
       "      <td>8.8</td>\n",
       "      <td>PG-13</td>\n",
       "    </tr>\n",
       "    <tr>\n",
       "      <th>3</th>\n",
       "      <td>Inception</td>\n",
       "      <td>Leonardo DiCaprio, Joseph Gordon-Levitt, Elli...</td>\n",
       "      <td>2386784</td>\n",
       "      <td>Action, Adventure, Sci-Fi</td>\n",
       "      <td>292.58</td>\n",
       "      <td>8.8</td>\n",
       "      <td>PG-13</td>\n",
       "    </tr>\n",
       "    <tr>\n",
       "      <th>4</th>\n",
       "      <td>The Lord of the Rings: The Two Towers</td>\n",
       "      <td>Elijah Wood, Ian McKellen, Viggo Mortensen, O...</td>\n",
       "      <td>1687730</td>\n",
       "      <td>Action, Adventure, Drama</td>\n",
       "      <td>342.55</td>\n",
       "      <td>8.8</td>\n",
       "      <td>PG-13</td>\n",
       "    </tr>\n",
       "    <tr>\n",
       "      <th>...</th>\n",
       "      <td>...</td>\n",
       "      <td>...</td>\n",
       "      <td>...</td>\n",
       "      <td>...</td>\n",
       "      <td>...</td>\n",
       "      <td>...</td>\n",
       "      <td>...</td>\n",
       "    </tr>\n",
       "    <tr>\n",
       "      <th>1720</th>\n",
       "      <td>Radhe</td>\n",
       "      <td>Salman Khan, Disha Patani, Randeep Hooda, Jac...</td>\n",
       "      <td>178385</td>\n",
       "      <td>Action, Crime, Thriller</td>\n",
       "      <td>NaN</td>\n",
       "      <td>1.9</td>\n",
       "      <td>NaN</td>\n",
       "    </tr>\n",
       "    <tr>\n",
       "      <th>1721</th>\n",
       "      <td>Race 3</td>\n",
       "      <td>Anil Kapoor, Salman Khan, Bobby Deol, Jacquel...</td>\n",
       "      <td>47240</td>\n",
       "      <td>Action, Crime, Thriller</td>\n",
       "      <td>NaN</td>\n",
       "      <td>1.9</td>\n",
       "      <td>NaN</td>\n",
       "    </tr>\n",
       "    <tr>\n",
       "      <th>1722</th>\n",
       "      <td>Angels Apocalypse</td>\n",
       "      <td>Enzo Zelocchi, Jana Rochelle, Ryan C.F. Buckl...</td>\n",
       "      <td>42901</td>\n",
       "      <td>Action, Fantasy, Sci-Fi</td>\n",
       "      <td>NaN</td>\n",
       "      <td>1.6</td>\n",
       "      <td>NaN</td>\n",
       "    </tr>\n",
       "    <tr>\n",
       "      <th>1723</th>\n",
       "      <td>The Cost of Deception</td>\n",
       "      <td>Vivianne Bánovits, András Mózes, Barna Bokor,...</td>\n",
       "      <td>39239</td>\n",
       "      <td>Action, Crime, Drama</td>\n",
       "      <td>NaN</td>\n",
       "      <td>1.5</td>\n",
       "      <td>NaN</td>\n",
       "    </tr>\n",
       "    <tr>\n",
       "      <th>1724</th>\n",
       "      <td>Sadak 2</td>\n",
       "      <td>Alia Bhatt, Sanjay Dutt, Aditya Roy Kapoor, P...</td>\n",
       "      <td>96160</td>\n",
       "      <td>Action, Drama</td>\n",
       "      <td>NaN</td>\n",
       "      <td>1.2</td>\n",
       "      <td>NaN</td>\n",
       "    </tr>\n",
       "  </tbody>\n",
       "</table>\n",
       "<p>1725 rows × 7 columns</p>\n",
       "</div>"
      ],
      "text/plain": [
       "                                                   Name  \\\n",
       "0                                       The Dark Knight   \n",
       "1         The Lord of the Rings: The Return of the King   \n",
       "2     The Lord of the Rings: The Fellowship of the Ring   \n",
       "3                                             Inception   \n",
       "4                 The Lord of the Rings: The Two Towers   \n",
       "...                                                 ...   \n",
       "1720                                              Radhe   \n",
       "1721                                             Race 3   \n",
       "1722                                  Angels Apocalypse   \n",
       "1723                              The Cost of Deception   \n",
       "1724                                            Sadak 2   \n",
       "\n",
       "                                                  Stars    Votes  \\\n",
       "0      Christian Bale, Heath Ledger, Aaron Eckhart, ...  2689425   \n",
       "1      Elijah Wood, Viggo Mortensen, Ian McKellen, O...  1869361   \n",
       "2      Elijah Wood, Ian McKellen, Orlando Bloom, Sea...  1898727   \n",
       "3      Leonardo DiCaprio, Joseph Gordon-Levitt, Elli...  2386784   \n",
       "4      Elijah Wood, Ian McKellen, Viggo Mortensen, O...  1687730   \n",
       "...                                                 ...      ...   \n",
       "1720   Salman Khan, Disha Patani, Randeep Hooda, Jac...   178385   \n",
       "1721   Anil Kapoor, Salman Khan, Bobby Deol, Jacquel...    47240   \n",
       "1722   Enzo Zelocchi, Jana Rochelle, Ryan C.F. Buckl...    42901   \n",
       "1723   Vivianne Bánovits, András Mózes, Barna Bokor,...    39239   \n",
       "1724   Alia Bhatt, Sanjay Dutt, Aditya Roy Kapoor, P...    96160   \n",
       "\n",
       "                          Genre  Gross_collection  Popularity Certification  \n",
       "0          Action, Crime, Drama            534.86         9.0         PG-13  \n",
       "1      Action, Adventure, Drama            377.85         9.0         PG-13  \n",
       "2      Action, Adventure, Drama            315.54         8.8         PG-13  \n",
       "3     Action, Adventure, Sci-Fi            292.58         8.8         PG-13  \n",
       "4      Action, Adventure, Drama            342.55         8.8         PG-13  \n",
       "...                         ...               ...         ...           ...  \n",
       "1720    Action, Crime, Thriller               NaN         1.9           NaN  \n",
       "1721    Action, Crime, Thriller               NaN         1.9           NaN  \n",
       "1722    Action, Fantasy, Sci-Fi               NaN         1.6           NaN  \n",
       "1723       Action, Crime, Drama               NaN         1.5           NaN  \n",
       "1724              Action, Drama               NaN         1.2           NaN  \n",
       "\n",
       "[1725 rows x 7 columns]"
      ]
     },
     "execution_count": 21,
     "metadata": {},
     "output_type": "execute_result"
    }
   ],
   "source": [
    "df_csv2_raw=pd.read_csv(\"csv2(raw).csv\")\n",
    "df_csv2_raw"
   ]
  },
  {
   "cell_type": "code",
   "execution_count": null,
   "id": "84b5cb75",
   "metadata": {},
   "outputs": [],
   "source": []
  },
  {
   "cell_type": "code",
   "execution_count": null,
   "id": "6314dd8b",
   "metadata": {},
   "outputs": [],
   "source": []
  },
  {
   "cell_type": "code",
   "execution_count": null,
   "id": "13097fd0",
   "metadata": {},
   "outputs": [],
   "source": []
  }
 ],
 "metadata": {
  "kernelspec": {
   "display_name": "Python 3 (ipykernel)",
   "language": "python",
   "name": "python3"
  },
  "language_info": {
   "codemirror_mode": {
    "name": "ipython",
    "version": 3
   },
   "file_extension": ".py",
   "mimetype": "text/x-python",
   "name": "python",
   "nbconvert_exporter": "python",
   "pygments_lexer": "ipython3",
   "version": "3.9.13"
  }
 },
 "nbformat": 4,
 "nbformat_minor": 5
}
