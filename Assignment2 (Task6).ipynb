{
 "cells": [
  {
   "cell_type": "markdown",
   "id": "0242fac2",
   "metadata": {},
   "source": [
    "### Scrape data forfirst 100 sneakers you find when you visit flipkart.com and search for “sneakers” in the search field.\n",
    "#### You have to scrape 3 attributes of each sneaker:\n",
    "1. Brand\n",
    "2. ProductDescription\n",
    "3. Price"
   ]
  },
  {
   "cell_type": "code",
   "execution_count": 1,
   "id": "92b2705f",
   "metadata": {},
   "outputs": [],
   "source": [
    "from selenium import webdriver\n",
    "from selenium.webdriver.common.by import By\n",
    "import time"
   ]
  },
  {
   "cell_type": "code",
   "execution_count": 2,
   "id": "35acc47b",
   "metadata": {},
   "outputs": [
    {
     "name": "stderr",
     "output_type": "stream",
     "text": [
      "C:\\Users\\pc\\AppData\\Local\\Temp\\ipykernel_26732\\80213923.py:2: DeprecationWarning: executable_path has been deprecated, please pass in a Service object\n",
      "  driver = webdriver.Chrome(r\"C:\\Users\\pc\\Downloads\\chromedriver_win32\\chromedriver.exe\")\n"
     ]
    }
   ],
   "source": [
    "# connect to the driver\n",
    "driver = webdriver.Chrome(r\"C:\\Users\\pc\\Downloads\\chromedriver_win32\\chromedriver.exe\")"
   ]
  },
  {
   "cell_type": "code",
   "execution_count": 3,
   "id": "6d7dab0a",
   "metadata": {},
   "outputs": [],
   "source": [
    "# scraping the naukri page automated chrome browser\n",
    "driver.get(\"https://www.flipkart.com/\")"
   ]
  },
  {
   "cell_type": "code",
   "execution_count": 4,
   "id": "e7322add",
   "metadata": {},
   "outputs": [],
   "source": [
    "search=driver.find_element(By.CLASS_NAME,\"_3704LK\")\n",
    "search.send_keys(\"sneakers\")"
   ]
  },
  {
   "cell_type": "code",
   "execution_count": 6,
   "id": "62ca64c2",
   "metadata": {},
   "outputs": [],
   "source": [
    "button=driver.find_element(By.CLASS_NAME,\"L0Z3Pu\")\n",
    "button.click()"
   ]
  },
  {
   "cell_type": "code",
   "execution_count": 7,
   "id": "37d230b0",
   "metadata": {},
   "outputs": [
    {
     "name": "stdout",
     "output_type": "stream",
     "text": [
      "BIRDE\n"
     ]
    }
   ],
   "source": [
    "name=driver.find_element(By.XPATH,'//div[@class=\"_2WkVRV\"]')\n",
    "print(name.text)"
   ]
  },
  {
   "cell_type": "code",
   "execution_count": 8,
   "id": "07645752",
   "metadata": {
    "scrolled": true
   },
   "outputs": [
    {
     "name": "stdout",
     "output_type": "stream",
     "text": [
      "599\n"
     ]
    }
   ],
   "source": [
    "price=driver.find_element(By.XPATH,'//div[@class=\"_30jeq3\"]')\n",
    "print(price.text.split(\"₹\")[1])\n"
   ]
  },
  {
   "cell_type": "code",
   "execution_count": 9,
   "id": "69e42033",
   "metadata": {},
   "outputs": [
    {
     "name": "stdout",
     "output_type": "stream",
     "text": [
      "Combo Pack Of 2 Casual Shoes Sneakers For Men\n"
     ]
    }
   ],
   "source": [
    "disc=driver.find_element(By.XPATH,'//a[@class=\"IRpwTa\"]')\n",
    "print(disc.text)\n"
   ]
  },
  {
   "cell_type": "code",
   "execution_count": 10,
   "id": "8e23767a",
   "metadata": {},
   "outputs": [],
   "source": [
    "Brand=[]\n",
    "Price=[]\n",
    "Description=[]"
   ]
  },
  {
   "cell_type": "code",
   "execution_count": 11,
   "id": "68b4e1f7",
   "metadata": {},
   "outputs": [],
   "source": [
    "for i in range(1,4):\n",
    "    name=driver.find_elements(By.XPATH,'//div[@class=\"_2WkVRV\"]')\n",
    "    for i in name:\n",
    "        Brand.append(i.text)\n",
    "    price=driver.find_elements(By.XPATH,'//div[@class=\"_30jeq3\"]')\n",
    "    for i in price:\n",
    "        Price.append(i.text.split(\"₹\")[1])\n",
    "    disc=driver.find_elements(By.XPATH,'//a[@class=\"IRpwTa\"]')\n",
    "    for i in disc:\n",
    "        Description.append(i.text)\n",
    "    next_button=driver.find_element(By.XPATH,'//a[@class=\"_1LKTO3\"]')\n",
    "    next_button.click()\n",
    "    time.sleep(3)  "
   ]
  },
  {
   "cell_type": "code",
   "execution_count": 12,
   "id": "07949454",
   "metadata": {},
   "outputs": [
    {
     "name": "stdout",
     "output_type": "stream",
     "text": [
      "120 120 120\n"
     ]
    }
   ],
   "source": [
    "print(len(Brand),len(Price),len(Description))"
   ]
  },
  {
   "cell_type": "code",
   "execution_count": 15,
   "id": "a88b1a27",
   "metadata": {},
   "outputs": [
    {
     "data": {
      "text/html": [
       "<div>\n",
       "<style scoped>\n",
       "    .dataframe tbody tr th:only-of-type {\n",
       "        vertical-align: middle;\n",
       "    }\n",
       "\n",
       "    .dataframe tbody tr th {\n",
       "        vertical-align: top;\n",
       "    }\n",
       "\n",
       "    .dataframe thead th {\n",
       "        text-align: right;\n",
       "    }\n",
       "</style>\n",
       "<table border=\"1\" class=\"dataframe\">\n",
       "  <thead>\n",
       "    <tr style=\"text-align: right;\">\n",
       "      <th></th>\n",
       "      <th>Brand</th>\n",
       "      <th>Product Description</th>\n",
       "      <th>Price</th>\n",
       "    </tr>\n",
       "  </thead>\n",
       "  <tbody>\n",
       "    <tr>\n",
       "      <th>0</th>\n",
       "      <td>BIRDE</td>\n",
       "      <td>Combo Pack Of 2 Casual Shoes Sneakers For Men</td>\n",
       "      <td>599</td>\n",
       "    </tr>\n",
       "    <tr>\n",
       "      <th>1</th>\n",
       "      <td>TR</td>\n",
       "      <td>Sneakers For Men</td>\n",
       "      <td>399</td>\n",
       "    </tr>\n",
       "    <tr>\n",
       "      <th>2</th>\n",
       "      <td>SFR</td>\n",
       "      <td>Sneakers For Men</td>\n",
       "      <td>399</td>\n",
       "    </tr>\n",
       "    <tr>\n",
       "      <th>3</th>\n",
       "      <td>aadi</td>\n",
       "      <td>Synthetic Leather |Lightweight|Comfort|Summer|...</td>\n",
       "      <td>399</td>\n",
       "    </tr>\n",
       "    <tr>\n",
       "      <th>4</th>\n",
       "      <td>SFR</td>\n",
       "      <td>Sneakers For Men</td>\n",
       "      <td>349</td>\n",
       "    </tr>\n",
       "    <tr>\n",
       "      <th>...</th>\n",
       "      <td>...</td>\n",
       "      <td>...</td>\n",
       "      <td>...</td>\n",
       "    </tr>\n",
       "    <tr>\n",
       "      <th>95</th>\n",
       "      <td>Krors</td>\n",
       "      <td>Mens Breathable Black Sneakers Running Shoes F...</td>\n",
       "      <td>556</td>\n",
       "    </tr>\n",
       "    <tr>\n",
       "      <th>96</th>\n",
       "      <td>BIRDE</td>\n",
       "      <td>Premium Casual Shoes for Women Sneakers For Women</td>\n",
       "      <td>349</td>\n",
       "    </tr>\n",
       "    <tr>\n",
       "      <th>97</th>\n",
       "      <td>BIRDE</td>\n",
       "      <td>Premium Sports Shoes For Men Pack Of 2 Sneaker...</td>\n",
       "      <td>599</td>\n",
       "    </tr>\n",
       "    <tr>\n",
       "      <th>98</th>\n",
       "      <td>Kraasa</td>\n",
       "      <td>Sneakers For Women</td>\n",
       "      <td>399</td>\n",
       "    </tr>\n",
       "    <tr>\n",
       "      <th>99</th>\n",
       "      <td>HOTSTYLE</td>\n",
       "      <td>Sneakers For Men</td>\n",
       "      <td>499</td>\n",
       "    </tr>\n",
       "  </tbody>\n",
       "</table>\n",
       "<p>100 rows × 3 columns</p>\n",
       "</div>"
      ],
      "text/plain": [
       "       Brand                                Product Description Price\n",
       "0      BIRDE      Combo Pack Of 2 Casual Shoes Sneakers For Men   599\n",
       "1         TR                                   Sneakers For Men   399\n",
       "2        SFR                                   Sneakers For Men   399\n",
       "3       aadi  Synthetic Leather |Lightweight|Comfort|Summer|...   399\n",
       "4        SFR                                   Sneakers For Men   349\n",
       "..       ...                                                ...   ...\n",
       "95     Krors  Mens Breathable Black Sneakers Running Shoes F...   556\n",
       "96     BIRDE  Premium Casual Shoes for Women Sneakers For Women   349\n",
       "97     BIRDE  Premium Sports Shoes For Men Pack Of 2 Sneaker...   599\n",
       "98    Kraasa                                 Sneakers For Women   399\n",
       "99  HOTSTYLE                                   Sneakers For Men   499\n",
       "\n",
       "[100 rows x 3 columns]"
      ]
     },
     "execution_count": 15,
     "metadata": {},
     "output_type": "execute_result"
    }
   ],
   "source": [
    "import pandas as pd\n",
    "data=pd.DataFrame({\"Brand\":Brand[0:100],\"Product Description\":Description[0:100],\"Price\":Price[0:100]})\n",
    "data"
   ]
  },
  {
   "cell_type": "code",
   "execution_count": null,
   "id": "e37e5a8a",
   "metadata": {},
   "outputs": [],
   "source": []
  }
 ],
 "metadata": {
  "kernelspec": {
   "display_name": "Python 3 (ipykernel)",
   "language": "python",
   "name": "python3"
  },
  "language_info": {
   "codemirror_mode": {
    "name": "ipython",
    "version": 3
   },
   "file_extension": ".py",
   "mimetype": "text/x-python",
   "name": "python",
   "nbconvert_exporter": "python",
   "pygments_lexer": "ipython3",
   "version": "3.9.13"
  }
 },
 "nbformat": 4,
 "nbformat_minor": 5
}
