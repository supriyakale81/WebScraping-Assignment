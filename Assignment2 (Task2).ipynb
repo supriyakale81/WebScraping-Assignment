{
 "cells": [
  {
   "cell_type": "markdown",
   "id": "5dfff57e",
   "metadata": {},
   "source": [
    "### Write a python program to scrape data for “Data Scientist” Job position in “Bangalore” location. You have to scrape the job-title, job-location, company_name. You have to scrape first 10 jobs data.\n",
    "#### This task will be done in following steps:\n",
    "1. First get the webpage https://www.naukri.com/\n",
    "2. Enter “Data Scientist” in “Skill, Designations, Companies” field and enter “Bangalore” in “enter the location” field.\n",
    "3. Then click the searchbutton.\n",
    "4. Then scrape the data for the first 10 jobs results youget.\n",
    "5. Finally create a dataframe of the scraped data."
   ]
  },
  {
   "cell_type": "code",
   "execution_count": 1,
   "id": "5d0863e4",
   "metadata": {},
   "outputs": [],
   "source": [
    "from selenium import webdriver\n",
    "from selenium.webdriver.common.by import By"
   ]
  },
  {
   "cell_type": "code",
   "execution_count": 2,
   "id": "721de884",
   "metadata": {},
   "outputs": [
    {
     "name": "stderr",
     "output_type": "stream",
     "text": [
      "C:\\Users\\pc\\AppData\\Local\\Temp\\ipykernel_13180\\80213923.py:2: DeprecationWarning: executable_path has been deprecated, please pass in a Service object\n",
      "  driver = webdriver.Chrome(r\"C:\\Users\\pc\\Downloads\\chromedriver_win32\\chromedriver.exe\")\n"
     ]
    }
   ],
   "source": [
    "# connect to the driver\n",
    "driver = webdriver.Chrome(r\"C:\\Users\\pc\\Downloads\\chromedriver_win32\\chromedriver.exe\")"
   ]
  },
  {
   "cell_type": "code",
   "execution_count": 3,
   "id": "536cbd5a",
   "metadata": {},
   "outputs": [],
   "source": [
    "driver.get(\"https://www.naukri.com/\")"
   ]
  },
  {
   "cell_type": "code",
   "execution_count": 4,
   "id": "eb839997",
   "metadata": {},
   "outputs": [],
   "source": [
    "# enter designation and location\n",
    "designation=driver.find_element(By.CLASS_NAME,\"suggestor-input\")\n",
    "designation.send_keys('Data Scientist')"
   ]
  },
  {
   "cell_type": "code",
   "execution_count": 6,
   "id": "ebe9b55c",
   "metadata": {},
   "outputs": [],
   "source": [
    "location=driver.find_element(By.XPATH,\"/html/body/div[1]/div[7]/div/div/div[5]/div/div/div/input\")\n",
    "location.send_keys('Banglore')"
   ]
  },
  {
   "cell_type": "code",
   "execution_count": 7,
   "id": "71db0fbf",
   "metadata": {},
   "outputs": [],
   "source": [
    "# enter search button\n",
    "search=driver.find_element(By.CLASS_NAME,\"qsbSubmit\")\n",
    "search.click()"
   ]
  },
  {
   "cell_type": "code",
   "execution_count": 15,
   "id": "26a03e0f",
   "metadata": {},
   "outputs": [],
   "source": [
    "job_title=[]\n",
    "job_location=[]\n",
    "company_name=[]\n",
    "experiance_required=[]\n",
    "urls=[]"
   ]
  },
  {
   "cell_type": "code",
   "execution_count": 16,
   "id": "60a39121",
   "metadata": {},
   "outputs": [],
   "source": [
    "# scraping job title from given page\n",
    "title_tags=driver.find_elements(By.XPATH,'//a[@class=\"title ellipsis\"]')\n",
    "for i in title_tags[0:10]:\n",
    "    title=i.text\n",
    "    job_title.append(title)\n",
    "    \n",
    "# scraping job location from given page\n",
    "location_tags=driver.find_elements(By.XPATH,'//span[@class=\"ellipsis fleft locWdth\"]')\n",
    "for i in location_tags[0:10]:\n",
    "    location=i.text\n",
    "    job_location.append(location)\n",
    "\n",
    "    \n",
    "# scraping company name from given page\n",
    "company_tags=driver.find_elements(By.XPATH,'//a[@class=\"subTitle ellipsis fleft\"]')\n",
    "for i in company_tags[0:10]:\n",
    "    company=i.text\n",
    "    company_name.append(company)\n",
    "    \n",
    "    \n",
    "# scraping job experiance from given page\n",
    "experiance_tags=driver.find_elements(By.XPATH,'//span[@class=\"ellipsis fleft expwdth\"]')\n",
    "for i in experiance_tags[0:10]:\n",
    "    experiance=i.text\n",
    "    experiance_required.append(experiance)\n",
    "    \n",
    "# scraping job url from given page\n",
    "url=driver.find_elements(By.XPATH,'//a[@class=\"subTitle ellipsis fleft\"]')\n",
    "for i in url[0:10]:\n",
    "    urls.append(i.get_attribute('href'))"
   ]
  },
  {
   "cell_type": "code",
   "execution_count": 17,
   "id": "0453102a",
   "metadata": {},
   "outputs": [
    {
     "name": "stdout",
     "output_type": "stream",
     "text": [
      "10 10 10 10 10\n"
     ]
    }
   ],
   "source": [
    "print(len(job_title),len(job_location),len(company_name),len(experiance_required),len(urls))"
   ]
  },
  {
   "cell_type": "code",
   "execution_count": 18,
   "id": "80f71e95",
   "metadata": {},
   "outputs": [
    {
     "data": {
      "text/html": [
       "<div>\n",
       "<style scoped>\n",
       "    .dataframe tbody tr th:only-of-type {\n",
       "        vertical-align: middle;\n",
       "    }\n",
       "\n",
       "    .dataframe tbody tr th {\n",
       "        vertical-align: top;\n",
       "    }\n",
       "\n",
       "    .dataframe thead th {\n",
       "        text-align: right;\n",
       "    }\n",
       "</style>\n",
       "<table border=\"1\" class=\"dataframe\">\n",
       "  <thead>\n",
       "    <tr style=\"text-align: right;\">\n",
       "      <th></th>\n",
       "      <th>Title</th>\n",
       "      <th>Location</th>\n",
       "      <th>Company</th>\n",
       "      <th>Experience</th>\n",
       "      <th>Job Link</th>\n",
       "    </tr>\n",
       "  </thead>\n",
       "  <tbody>\n",
       "    <tr>\n",
       "      <th>0</th>\n",
       "      <td>Senior data scientist</td>\n",
       "      <td>Mumbai, Pune, Chennai, Gurgaon/Gurugram, Banga...</td>\n",
       "      <td>Fractal Protocol</td>\n",
       "      <td>4-8 Yrs</td>\n",
       "      <td>https://www.naukri.com/fractal-protocol-jobs-c...</td>\n",
       "    </tr>\n",
       "    <tr>\n",
       "      <th>1</th>\n",
       "      <td>Data Scientist_NLP</td>\n",
       "      <td>Mumbai, Pune, Chennai, Gurgaon/Gurugram, Banga...</td>\n",
       "      <td>Fractal Protocol</td>\n",
       "      <td>5-11 Yrs</td>\n",
       "      <td>https://www.naukri.com/fractal-protocol-jobs-c...</td>\n",
       "    </tr>\n",
       "    <tr>\n",
       "      <th>2</th>\n",
       "      <td>Data Scientist</td>\n",
       "      <td>Mumbai, Pune, Chennai, Gurgaon/Gurugram, Banga...</td>\n",
       "      <td>Fractal Protocol</td>\n",
       "      <td>3-7 Yrs</td>\n",
       "      <td>https://www.naukri.com/fractal-protocol-jobs-c...</td>\n",
       "    </tr>\n",
       "    <tr>\n",
       "      <th>3</th>\n",
       "      <td>Data Science Specialist</td>\n",
       "      <td>Kolkata, Mumbai, Hyderabad/Secunderabad, Pune,...</td>\n",
       "      <td>Accenture</td>\n",
       "      <td>2-4 Yrs</td>\n",
       "      <td>https://www.naukri.com/accenture-jobs-careers-...</td>\n",
       "    </tr>\n",
       "    <tr>\n",
       "      <th>4</th>\n",
       "      <td>Analystics &amp; Modeling Specialist</td>\n",
       "      <td>Kolkata, Mumbai, Hyderabad/Secunderabad, Pune,...</td>\n",
       "      <td>Accenture</td>\n",
       "      <td>6-8 Yrs</td>\n",
       "      <td>https://www.naukri.com/accenture-jobs-careers-...</td>\n",
       "    </tr>\n",
       "    <tr>\n",
       "      <th>5</th>\n",
       "      <td>Senior Data Scientist-New Frontiers</td>\n",
       "      <td>Kolkata, Mumbai, New Delhi, Hyderabad/Secunder...</td>\n",
       "      <td>IDFC FIRST Bank</td>\n",
       "      <td>3-7 Yrs</td>\n",
       "      <td>https://www.naukri.com/idfc-first-bank-jobs-ca...</td>\n",
       "    </tr>\n",
       "    <tr>\n",
       "      <th>6</th>\n",
       "      <td>Data Scientist</td>\n",
       "      <td>Hybrid - Kolkata, Hyderabad/Secunderabad, Pune...</td>\n",
       "      <td>Cognizant</td>\n",
       "      <td>8-10 Yrs</td>\n",
       "      <td>https://www.naukri.com/cognizant-jobs-careers-...</td>\n",
       "    </tr>\n",
       "    <tr>\n",
       "      <th>7</th>\n",
       "      <td>Lead ML Scientist</td>\n",
       "      <td>Mumbai, Bangalore/Bengaluru</td>\n",
       "      <td>Fractal Protocol</td>\n",
       "      <td>6-10 Yrs</td>\n",
       "      <td>https://www.naukri.com/fractal-protocol-jobs-c...</td>\n",
       "    </tr>\n",
       "    <tr>\n",
       "      <th>8</th>\n",
       "      <td>Lead Machine Learning Specialist</td>\n",
       "      <td>Mumbai, Bangalore/Bengaluru</td>\n",
       "      <td>Fractal Protocol</td>\n",
       "      <td>6-12 Yrs</td>\n",
       "      <td>https://www.naukri.com/fractal-protocol-jobs-c...</td>\n",
       "    </tr>\n",
       "    <tr>\n",
       "      <th>9</th>\n",
       "      <td>Sr. Data scientist</td>\n",
       "      <td>Hyderabad/Secunderabad, Bangalore/Bengaluru, M...</td>\n",
       "      <td>Tata Consultancy Services (TCS)</td>\n",
       "      <td>7-12 Yrs</td>\n",
       "      <td>https://www.naukri.com/tata-consultancy-servic...</td>\n",
       "    </tr>\n",
       "  </tbody>\n",
       "</table>\n",
       "</div>"
      ],
      "text/plain": [
       "                                 Title  \\\n",
       "0                Senior data scientist   \n",
       "1                   Data Scientist_NLP   \n",
       "2                       Data Scientist   \n",
       "3              Data Science Specialist   \n",
       "4     Analystics & Modeling Specialist   \n",
       "5  Senior Data Scientist-New Frontiers   \n",
       "6                       Data Scientist   \n",
       "7                    Lead ML Scientist   \n",
       "8     Lead Machine Learning Specialist   \n",
       "9                   Sr. Data scientist   \n",
       "\n",
       "                                            Location  \\\n",
       "0  Mumbai, Pune, Chennai, Gurgaon/Gurugram, Banga...   \n",
       "1  Mumbai, Pune, Chennai, Gurgaon/Gurugram, Banga...   \n",
       "2  Mumbai, Pune, Chennai, Gurgaon/Gurugram, Banga...   \n",
       "3  Kolkata, Mumbai, Hyderabad/Secunderabad, Pune,...   \n",
       "4  Kolkata, Mumbai, Hyderabad/Secunderabad, Pune,...   \n",
       "5  Kolkata, Mumbai, New Delhi, Hyderabad/Secunder...   \n",
       "6  Hybrid - Kolkata, Hyderabad/Secunderabad, Pune...   \n",
       "7                        Mumbai, Bangalore/Bengaluru   \n",
       "8                        Mumbai, Bangalore/Bengaluru   \n",
       "9  Hyderabad/Secunderabad, Bangalore/Bengaluru, M...   \n",
       "\n",
       "                           Company Experience  \\\n",
       "0                 Fractal Protocol    4-8 Yrs   \n",
       "1                 Fractal Protocol   5-11 Yrs   \n",
       "2                 Fractal Protocol    3-7 Yrs   \n",
       "3                        Accenture    2-4 Yrs   \n",
       "4                        Accenture    6-8 Yrs   \n",
       "5                  IDFC FIRST Bank    3-7 Yrs   \n",
       "6                        Cognizant   8-10 Yrs   \n",
       "7                 Fractal Protocol   6-10 Yrs   \n",
       "8                 Fractal Protocol   6-12 Yrs   \n",
       "9  Tata Consultancy Services (TCS)   7-12 Yrs   \n",
       "\n",
       "                                            Job Link  \n",
       "0  https://www.naukri.com/fractal-protocol-jobs-c...  \n",
       "1  https://www.naukri.com/fractal-protocol-jobs-c...  \n",
       "2  https://www.naukri.com/fractal-protocol-jobs-c...  \n",
       "3  https://www.naukri.com/accenture-jobs-careers-...  \n",
       "4  https://www.naukri.com/accenture-jobs-careers-...  \n",
       "5  https://www.naukri.com/idfc-first-bank-jobs-ca...  \n",
       "6  https://www.naukri.com/cognizant-jobs-careers-...  \n",
       "7  https://www.naukri.com/fractal-protocol-jobs-c...  \n",
       "8  https://www.naukri.com/fractal-protocol-jobs-c...  \n",
       "9  https://www.naukri.com/tata-consultancy-servic...  "
      ]
     },
     "execution_count": 18,
     "metadata": {},
     "output_type": "execute_result"
    }
   ],
   "source": [
    "import pandas as pd\n",
    "data=pd.DataFrame({\"Title\":job_title,\"Location\":job_location,\"Company\":company_name,\"Experience\":experiance_required,\"Job Link\":urls})\n",
    "data"
   ]
  },
  {
   "cell_type": "code",
   "execution_count": null,
   "id": "6be8fdd0",
   "metadata": {},
   "outputs": [],
   "source": []
  }
 ],
 "metadata": {
  "kernelspec": {
   "display_name": "Python 3 (ipykernel)",
   "language": "python",
   "name": "python3"
  },
  "language_info": {
   "codemirror_mode": {
    "name": "ipython",
    "version": 3
   },
   "file_extension": ".py",
   "mimetype": "text/x-python",
   "name": "python",
   "nbconvert_exporter": "python",
   "pygments_lexer": "ipython3",
   "version": "3.9.13"
  }
 },
 "nbformat": 4,
 "nbformat_minor": 5
}
