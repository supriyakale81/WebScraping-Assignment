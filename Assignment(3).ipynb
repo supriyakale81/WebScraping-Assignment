{
 "cells": [
  {
   "cell_type": "markdown",
   "id": "4189e763",
   "metadata": {},
   "source": [
    "### 3) Write a python program to display IMDB’s Top rated 50 Indian movies’ data (i.e. name, rating, year of release) and make data fram"
   ]
  },
  {
   "cell_type": "code",
   "execution_count": 1,
   "id": "b0f9a760",
   "metadata": {},
   "outputs": [],
   "source": [
    "from selenium import webdriver\n",
    "from selenium.webdriver.common.by import By"
   ]
  },
  {
   "cell_type": "code",
   "execution_count": 29,
   "id": "7de67040",
   "metadata": {},
   "outputs": [
    {
     "name": "stderr",
     "output_type": "stream",
     "text": [
      "C:\\Users\\pc\\AppData\\Local\\Temp\\ipykernel_24768\\80213923.py:2: DeprecationWarning: executable_path has been deprecated, please pass in a Service object\n",
      "  driver = webdriver.Chrome(r\"C:\\Users\\pc\\Downloads\\chromedriver_win32\\chromedriver.exe\")\n"
     ]
    }
   ],
   "source": [
    "# connect to the driver\n",
    "driver = webdriver.Chrome(r\"C:\\Users\\pc\\Downloads\\chromedriver_win32\\chromedriver.exe\")"
   ]
  },
  {
   "cell_type": "code",
   "execution_count": 30,
   "id": "6d5f2ddc",
   "metadata": {},
   "outputs": [],
   "source": [
    "# scraping the naukri page automated chrome browser\n",
    "driver.get(\"https://imdb.com\")"
   ]
  },
  {
   "cell_type": "code",
   "execution_count": 31,
   "id": "e9070c9c",
   "metadata": {},
   "outputs": [],
   "source": [
    "menu=driver.find_element(By.ID,\"iconContext-menu\")\n",
    "menu.click()"
   ]
  },
  {
   "cell_type": "code",
   "execution_count": 33,
   "id": "f72b1fcc",
   "metadata": {},
   "outputs": [],
   "source": [
    "movies=driver.find_element(By.XPATH,'//span[@class=\"navlinkcat__itemChevron\"]')\n",
    "movies.click()"
   ]
  },
  {
   "cell_type": "code",
   "execution_count": 35,
   "id": "72e14f08",
   "metadata": {},
   "outputs": [],
   "source": [
    "Ind=driver.find_element(By.XPATH,'/html/body/div[2]/nav/div[2]/aside/div/div[2]/div/div[1]/span/div/div/ul/a[8]/span')\n",
    "Ind.click()"
   ]
  },
  {
   "cell_type": "code",
   "execution_count": 37,
   "id": "85371f8c",
   "metadata": {},
   "outputs": [],
   "source": [
    "top=driver.find_element(By.XPATH,'/html/body/div[2]/div/div[2]/div[2]/span/div/div/div[2]/div[2]/ul/li[3]/a/span[1]')\n",
    "top.click()"
   ]
  },
  {
   "cell_type": "code",
   "execution_count": 40,
   "id": "f41c0543",
   "metadata": {},
   "outputs": [],
   "source": [
    "see=driver.find_element(By.XPATH,'/html/body/div[2]/div/div[2]/div[3]/div/div[1]/div[1]/span/div/p[2]/a')\n",
    "see.click()\n"
   ]
  },
  {
   "cell_type": "code",
   "execution_count": 38,
   "id": "fe428559",
   "metadata": {},
   "outputs": [
    {
     "data": {
      "text/plain": [
       "'Super 30'"
      ]
     },
     "execution_count": 38,
     "metadata": {},
     "output_type": "execute_result"
    }
   ],
   "source": [
    "name=driver.find_element(By.XPATH,'/html/body/div[2]/div/div[2]/div[3]/div/div[1]/div[1]/span/div/div/div/div/div/div[1]/div/div/div[2]/div/a/i')\n",
    "name.text"
   ]
  },
  {
   "cell_type": "code",
   "execution_count": 41,
   "id": "f17fc799",
   "metadata": {},
   "outputs": [
    {
     "data": {
      "text/plain": [
       "'(1993)'"
      ]
     },
     "execution_count": 41,
     "metadata": {},
     "output_type": "execute_result"
    }
   ],
   "source": [
    "year=driver.find_element(By.CLASS_NAME,\"secondaryInfo\")\n",
    "year.text"
   ]
  },
  {
   "cell_type": "code",
   "execution_count": 42,
   "id": "a294d003",
   "metadata": {},
   "outputs": [
    {
     "data": {
      "text/plain": [
       "'8.5'"
      ]
     },
     "execution_count": 42,
     "metadata": {},
     "output_type": "execute_result"
    }
   ],
   "source": [
    "rating=driver.find_element(By.TAG_NAME,\"strong\")\n",
    "rating.text"
   ]
  },
  {
   "cell_type": "code",
   "execution_count": 50,
   "id": "5ad33fd4",
   "metadata": {},
   "outputs": [
    {
     "name": "stdout",
     "output_type": "stream",
     "text": [
      "['Ramayana: The Legend of Prince Rama ', 'Rocketry: The Nambi Effect ', 'Nayakan ', 'Gol Maal ', 'Anbe Sivam ', '777 Charlie ', 'Jai Bhim ', 'Pariyerum Perumal ', '3 Idiots ', ' The World of Apu ', ' Manichithrathazhu ', ' #Home ', ' Soorarai Pottru ', ' Black Friday ', ' Kumbalangi Nights ', ' C/o Kancharapalem ', ' Like Stars on Earth ', ' Kireedam ', ' Dangal ', ' Kaithi ', ' Jersey ', ' 96 ', ' Mayabazar ', ' Natsamrat ', ' Drishyam 2 ', ' Asuran ', ' Sita Ramam ', ' Thevar Magan ', ' Visaaranai ', ' Sarpatta Parambarai ', ' Thalapathi ', ' Pather Panchali ', ' Nadodikattu ', ' Drishyam ', ' Jaane Bhi Do Yaaro ', ' Thani Oruvan ', ' Sardar Udham ', ' Aparajito ', ' Vada Chennai ', ' Khosla Ka Ghosla! ', ' Anniyan ', ' Raatchasan ', ' Chupke Chupke ', ' Gangs of Wasseypur ', ' Peranbu ', ' Drishyam ', ' Mahanati ', ' Bangalore Days ', ' Satya ', ' Premam ']\n"
     ]
    }
   ],
   "source": [
    "names=[]\n",
    "name=driver.find_elements(By.XPATH,'//td[@class=\"titleColumn\"]')\n",
    "for i in name[0:50]:\n",
    "    names.append(i.text[3:-6])\n",
    "print(names)\n",
    "    "
   ]
  },
  {
   "cell_type": "code",
   "execution_count": 45,
   "id": "18c10846",
   "metadata": {},
   "outputs": [
    {
     "name": "stdout",
     "output_type": "stream",
     "text": [
      "['1993', '2022', '1987', '1979', '2003', '2022', '2021', '2018', '2009', '1959', '1993', '2021', '2020', '2004', '2019', '2018', '2007', '1989', '2016', '2019', '2019', '2018', '1957', '2016', '2021', '2019', '2022', '1992', '2015', '2021', '1991', '1955', '1987', '2013', '1983', '2015', '2021', '1956', '2018', '2006', '2005', '2018', '1975', '2012', '2018', '2015', '2018', '2014', '1998', '2015']\n"
     ]
    }
   ],
   "source": [
    "years=[]\n",
    "year=driver.find_elements(By.CLASS_NAME,\"secondaryInfo\")\n",
    "for i in year[0:50]:\n",
    "    years.append(i.text[1:-1])\n",
    "print(years)"
   ]
  },
  {
   "cell_type": "code",
   "execution_count": 46,
   "id": "9a2190d4",
   "metadata": {},
   "outputs": [
    {
     "name": "stdout",
     "output_type": "stream",
     "text": [
      "['8.5', '8.4', '8.4', '8.4', '8.4', '8.4', '8.4', '8.4', '8.4', '8.4', '8.4', '8.3', '8.3', '8.3', '8.3', '8.3', '8.3', '8.3', '8.3', '8.3', '8.3', '8.3', '8.2', '8.2', '8.2', '8.2', '8.2', '8.2', '8.2', '8.2', '8.2', '8.2', '8.2', '8.2', '8.2', '8.2', '8.2', '8.2', '8.2', '8.2', '8.1', '8.1', '8.1', '8.1', '8.1', '8.1', '8.1', '8.1', '8.1', '8.1']\n"
     ]
    }
   ],
   "source": [
    "ratings=[]\n",
    "rating=driver.find_elements(By.TAG_NAME,\"strong\")\n",
    "for i in rating[0:50]:\n",
    "    ratings.append(i.text)\n",
    "print(ratings)\n",
    "    "
   ]
  },
  {
   "cell_type": "code",
   "execution_count": 51,
   "id": "2b721d38",
   "metadata": {},
   "outputs": [
    {
     "data": {
      "text/html": [
       "<div>\n",
       "<style scoped>\n",
       "    .dataframe tbody tr th:only-of-type {\n",
       "        vertical-align: middle;\n",
       "    }\n",
       "\n",
       "    .dataframe tbody tr th {\n",
       "        vertical-align: top;\n",
       "    }\n",
       "\n",
       "    .dataframe thead th {\n",
       "        text-align: right;\n",
       "    }\n",
       "</style>\n",
       "<table border=\"1\" class=\"dataframe\">\n",
       "  <thead>\n",
       "    <tr style=\"text-align: right;\">\n",
       "      <th></th>\n",
       "      <th>Movies Name</th>\n",
       "      <th>Movie Ratings</th>\n",
       "      <th>Year of release</th>\n",
       "    </tr>\n",
       "  </thead>\n",
       "  <tbody>\n",
       "    <tr>\n",
       "      <th>0</th>\n",
       "      <td>Ramayana: The Legend of Prince Rama</td>\n",
       "      <td>8.5</td>\n",
       "      <td>1993</td>\n",
       "    </tr>\n",
       "    <tr>\n",
       "      <th>1</th>\n",
       "      <td>Rocketry: The Nambi Effect</td>\n",
       "      <td>8.4</td>\n",
       "      <td>2022</td>\n",
       "    </tr>\n",
       "    <tr>\n",
       "      <th>2</th>\n",
       "      <td>Nayakan</td>\n",
       "      <td>8.4</td>\n",
       "      <td>1987</td>\n",
       "    </tr>\n",
       "    <tr>\n",
       "      <th>3</th>\n",
       "      <td>Gol Maal</td>\n",
       "      <td>8.4</td>\n",
       "      <td>1979</td>\n",
       "    </tr>\n",
       "    <tr>\n",
       "      <th>4</th>\n",
       "      <td>Anbe Sivam</td>\n",
       "      <td>8.4</td>\n",
       "      <td>2003</td>\n",
       "    </tr>\n",
       "    <tr>\n",
       "      <th>5</th>\n",
       "      <td>777 Charlie</td>\n",
       "      <td>8.4</td>\n",
       "      <td>2022</td>\n",
       "    </tr>\n",
       "    <tr>\n",
       "      <th>6</th>\n",
       "      <td>Jai Bhim</td>\n",
       "      <td>8.4</td>\n",
       "      <td>2021</td>\n",
       "    </tr>\n",
       "    <tr>\n",
       "      <th>7</th>\n",
       "      <td>Pariyerum Perumal</td>\n",
       "      <td>8.4</td>\n",
       "      <td>2018</td>\n",
       "    </tr>\n",
       "    <tr>\n",
       "      <th>8</th>\n",
       "      <td>3 Idiots</td>\n",
       "      <td>8.4</td>\n",
       "      <td>2009</td>\n",
       "    </tr>\n",
       "    <tr>\n",
       "      <th>9</th>\n",
       "      <td>The World of Apu</td>\n",
       "      <td>8.4</td>\n",
       "      <td>1959</td>\n",
       "    </tr>\n",
       "    <tr>\n",
       "      <th>10</th>\n",
       "      <td>Manichithrathazhu</td>\n",
       "      <td>8.4</td>\n",
       "      <td>1993</td>\n",
       "    </tr>\n",
       "    <tr>\n",
       "      <th>11</th>\n",
       "      <td>#Home</td>\n",
       "      <td>8.3</td>\n",
       "      <td>2021</td>\n",
       "    </tr>\n",
       "    <tr>\n",
       "      <th>12</th>\n",
       "      <td>Soorarai Pottru</td>\n",
       "      <td>8.3</td>\n",
       "      <td>2020</td>\n",
       "    </tr>\n",
       "    <tr>\n",
       "      <th>13</th>\n",
       "      <td>Black Friday</td>\n",
       "      <td>8.3</td>\n",
       "      <td>2004</td>\n",
       "    </tr>\n",
       "    <tr>\n",
       "      <th>14</th>\n",
       "      <td>Kumbalangi Nights</td>\n",
       "      <td>8.3</td>\n",
       "      <td>2019</td>\n",
       "    </tr>\n",
       "    <tr>\n",
       "      <th>15</th>\n",
       "      <td>C/o Kancharapalem</td>\n",
       "      <td>8.3</td>\n",
       "      <td>2018</td>\n",
       "    </tr>\n",
       "    <tr>\n",
       "      <th>16</th>\n",
       "      <td>Like Stars on Earth</td>\n",
       "      <td>8.3</td>\n",
       "      <td>2007</td>\n",
       "    </tr>\n",
       "    <tr>\n",
       "      <th>17</th>\n",
       "      <td>Kireedam</td>\n",
       "      <td>8.3</td>\n",
       "      <td>1989</td>\n",
       "    </tr>\n",
       "    <tr>\n",
       "      <th>18</th>\n",
       "      <td>Dangal</td>\n",
       "      <td>8.3</td>\n",
       "      <td>2016</td>\n",
       "    </tr>\n",
       "    <tr>\n",
       "      <th>19</th>\n",
       "      <td>Kaithi</td>\n",
       "      <td>8.3</td>\n",
       "      <td>2019</td>\n",
       "    </tr>\n",
       "    <tr>\n",
       "      <th>20</th>\n",
       "      <td>Jersey</td>\n",
       "      <td>8.3</td>\n",
       "      <td>2019</td>\n",
       "    </tr>\n",
       "    <tr>\n",
       "      <th>21</th>\n",
       "      <td>96</td>\n",
       "      <td>8.3</td>\n",
       "      <td>2018</td>\n",
       "    </tr>\n",
       "    <tr>\n",
       "      <th>22</th>\n",
       "      <td>Mayabazar</td>\n",
       "      <td>8.2</td>\n",
       "      <td>1957</td>\n",
       "    </tr>\n",
       "    <tr>\n",
       "      <th>23</th>\n",
       "      <td>Natsamrat</td>\n",
       "      <td>8.2</td>\n",
       "      <td>2016</td>\n",
       "    </tr>\n",
       "    <tr>\n",
       "      <th>24</th>\n",
       "      <td>Drishyam 2</td>\n",
       "      <td>8.2</td>\n",
       "      <td>2021</td>\n",
       "    </tr>\n",
       "    <tr>\n",
       "      <th>25</th>\n",
       "      <td>Asuran</td>\n",
       "      <td>8.2</td>\n",
       "      <td>2019</td>\n",
       "    </tr>\n",
       "    <tr>\n",
       "      <th>26</th>\n",
       "      <td>Sita Ramam</td>\n",
       "      <td>8.2</td>\n",
       "      <td>2022</td>\n",
       "    </tr>\n",
       "    <tr>\n",
       "      <th>27</th>\n",
       "      <td>Thevar Magan</td>\n",
       "      <td>8.2</td>\n",
       "      <td>1992</td>\n",
       "    </tr>\n",
       "    <tr>\n",
       "      <th>28</th>\n",
       "      <td>Visaaranai</td>\n",
       "      <td>8.2</td>\n",
       "      <td>2015</td>\n",
       "    </tr>\n",
       "    <tr>\n",
       "      <th>29</th>\n",
       "      <td>Sarpatta Parambarai</td>\n",
       "      <td>8.2</td>\n",
       "      <td>2021</td>\n",
       "    </tr>\n",
       "    <tr>\n",
       "      <th>30</th>\n",
       "      <td>Thalapathi</td>\n",
       "      <td>8.2</td>\n",
       "      <td>1991</td>\n",
       "    </tr>\n",
       "    <tr>\n",
       "      <th>31</th>\n",
       "      <td>Pather Panchali</td>\n",
       "      <td>8.2</td>\n",
       "      <td>1955</td>\n",
       "    </tr>\n",
       "    <tr>\n",
       "      <th>32</th>\n",
       "      <td>Nadodikattu</td>\n",
       "      <td>8.2</td>\n",
       "      <td>1987</td>\n",
       "    </tr>\n",
       "    <tr>\n",
       "      <th>33</th>\n",
       "      <td>Drishyam</td>\n",
       "      <td>8.2</td>\n",
       "      <td>2013</td>\n",
       "    </tr>\n",
       "    <tr>\n",
       "      <th>34</th>\n",
       "      <td>Jaane Bhi Do Yaaro</td>\n",
       "      <td>8.2</td>\n",
       "      <td>1983</td>\n",
       "    </tr>\n",
       "    <tr>\n",
       "      <th>35</th>\n",
       "      <td>Thani Oruvan</td>\n",
       "      <td>8.2</td>\n",
       "      <td>2015</td>\n",
       "    </tr>\n",
       "    <tr>\n",
       "      <th>36</th>\n",
       "      <td>Sardar Udham</td>\n",
       "      <td>8.2</td>\n",
       "      <td>2021</td>\n",
       "    </tr>\n",
       "    <tr>\n",
       "      <th>37</th>\n",
       "      <td>Aparajito</td>\n",
       "      <td>8.2</td>\n",
       "      <td>1956</td>\n",
       "    </tr>\n",
       "    <tr>\n",
       "      <th>38</th>\n",
       "      <td>Vada Chennai</td>\n",
       "      <td>8.2</td>\n",
       "      <td>2018</td>\n",
       "    </tr>\n",
       "    <tr>\n",
       "      <th>39</th>\n",
       "      <td>Khosla Ka Ghosla!</td>\n",
       "      <td>8.2</td>\n",
       "      <td>2006</td>\n",
       "    </tr>\n",
       "    <tr>\n",
       "      <th>40</th>\n",
       "      <td>Anniyan</td>\n",
       "      <td>8.1</td>\n",
       "      <td>2005</td>\n",
       "    </tr>\n",
       "    <tr>\n",
       "      <th>41</th>\n",
       "      <td>Raatchasan</td>\n",
       "      <td>8.1</td>\n",
       "      <td>2018</td>\n",
       "    </tr>\n",
       "    <tr>\n",
       "      <th>42</th>\n",
       "      <td>Chupke Chupke</td>\n",
       "      <td>8.1</td>\n",
       "      <td>1975</td>\n",
       "    </tr>\n",
       "    <tr>\n",
       "      <th>43</th>\n",
       "      <td>Gangs of Wasseypur</td>\n",
       "      <td>8.1</td>\n",
       "      <td>2012</td>\n",
       "    </tr>\n",
       "    <tr>\n",
       "      <th>44</th>\n",
       "      <td>Peranbu</td>\n",
       "      <td>8.1</td>\n",
       "      <td>2018</td>\n",
       "    </tr>\n",
       "    <tr>\n",
       "      <th>45</th>\n",
       "      <td>Drishyam</td>\n",
       "      <td>8.1</td>\n",
       "      <td>2015</td>\n",
       "    </tr>\n",
       "    <tr>\n",
       "      <th>46</th>\n",
       "      <td>Mahanati</td>\n",
       "      <td>8.1</td>\n",
       "      <td>2018</td>\n",
       "    </tr>\n",
       "    <tr>\n",
       "      <th>47</th>\n",
       "      <td>Bangalore Days</td>\n",
       "      <td>8.1</td>\n",
       "      <td>2014</td>\n",
       "    </tr>\n",
       "    <tr>\n",
       "      <th>48</th>\n",
       "      <td>Satya</td>\n",
       "      <td>8.1</td>\n",
       "      <td>1998</td>\n",
       "    </tr>\n",
       "    <tr>\n",
       "      <th>49</th>\n",
       "      <td>Premam</td>\n",
       "      <td>8.1</td>\n",
       "      <td>2015</td>\n",
       "    </tr>\n",
       "  </tbody>\n",
       "</table>\n",
       "</div>"
      ],
      "text/plain": [
       "                             Movies Name Movie Ratings Year of release\n",
       "0   Ramayana: The Legend of Prince Rama            8.5            1993\n",
       "1            Rocketry: The Nambi Effect            8.4            2022\n",
       "2                               Nayakan            8.4            1987\n",
       "3                              Gol Maal            8.4            1979\n",
       "4                            Anbe Sivam            8.4            2003\n",
       "5                           777 Charlie            8.4            2022\n",
       "6                              Jai Bhim            8.4            2021\n",
       "7                     Pariyerum Perumal            8.4            2018\n",
       "8                              3 Idiots            8.4            2009\n",
       "9                      The World of Apu            8.4            1959\n",
       "10                    Manichithrathazhu            8.4            1993\n",
       "11                                #Home            8.3            2021\n",
       "12                      Soorarai Pottru            8.3            2020\n",
       "13                         Black Friday            8.3            2004\n",
       "14                    Kumbalangi Nights            8.3            2019\n",
       "15                    C/o Kancharapalem            8.3            2018\n",
       "16                  Like Stars on Earth            8.3            2007\n",
       "17                             Kireedam            8.3            1989\n",
       "18                               Dangal            8.3            2016\n",
       "19                               Kaithi            8.3            2019\n",
       "20                               Jersey            8.3            2019\n",
       "21                                   96            8.3            2018\n",
       "22                            Mayabazar            8.2            1957\n",
       "23                            Natsamrat            8.2            2016\n",
       "24                           Drishyam 2            8.2            2021\n",
       "25                               Asuran            8.2            2019\n",
       "26                           Sita Ramam            8.2            2022\n",
       "27                         Thevar Magan            8.2            1992\n",
       "28                           Visaaranai            8.2            2015\n",
       "29                  Sarpatta Parambarai            8.2            2021\n",
       "30                           Thalapathi            8.2            1991\n",
       "31                      Pather Panchali            8.2            1955\n",
       "32                          Nadodikattu            8.2            1987\n",
       "33                             Drishyam            8.2            2013\n",
       "34                   Jaane Bhi Do Yaaro            8.2            1983\n",
       "35                         Thani Oruvan            8.2            2015\n",
       "36                         Sardar Udham            8.2            2021\n",
       "37                            Aparajito            8.2            1956\n",
       "38                         Vada Chennai            8.2            2018\n",
       "39                    Khosla Ka Ghosla!            8.2            2006\n",
       "40                              Anniyan            8.1            2005\n",
       "41                           Raatchasan            8.1            2018\n",
       "42                        Chupke Chupke            8.1            1975\n",
       "43                   Gangs of Wasseypur            8.1            2012\n",
       "44                              Peranbu            8.1            2018\n",
       "45                             Drishyam            8.1            2015\n",
       "46                             Mahanati            8.1            2018\n",
       "47                       Bangalore Days            8.1            2014\n",
       "48                                Satya            8.1            1998\n",
       "49                               Premam            8.1            2015"
      ]
     },
     "execution_count": 51,
     "metadata": {},
     "output_type": "execute_result"
    }
   ],
   "source": [
    "import pandas as pd\n",
    "df=pd.DataFrame({\"Movies Name\":names,\"Movie Ratings\":ratings,\"Year of release\":years})\n",
    "df"
   ]
  },
  {
   "cell_type": "code",
   "execution_count": null,
   "id": "9edafdeb",
   "metadata": {},
   "outputs": [],
   "source": []
  }
 ],
 "metadata": {
  "kernelspec": {
   "display_name": "Python 3 (ipykernel)",
   "language": "python",
   "name": "python3"
  },
  "language_info": {
   "codemirror_mode": {
    "name": "ipython",
    "version": 3
   },
   "file_extension": ".py",
   "mimetype": "text/x-python",
   "name": "python",
   "nbconvert_exporter": "python",
   "pygments_lexer": "ipython3",
   "version": "3.9.13"
  }
 },
 "nbformat": 4,
 "nbformat_minor": 5
}
