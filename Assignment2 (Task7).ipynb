{
 "cells": [
  {
   "cell_type": "markdown",
   "id": "a7fc6e04",
   "metadata": {},
   "source": [
    "### Go to webpage https://www.amazon.in/ Enter “Laptop” in the search field and then click the search icon. Then set CPU Type filter to “Intel Core i7” \n",
    "#### After setting the filters scrape first 10 laptops data. You have to scrape 3 attributes for each laptop:\n",
    "1. Title\n",
    "2. Ratings\n",
    "3. Price"
   ]
  },
  {
   "cell_type": "code",
   "execution_count": 1,
   "id": "14309ee6",
   "metadata": {},
   "outputs": [],
   "source": [
    "import selenium\n",
    "from selenium import webdriver\n",
    "from selenium.webdriver.common.by import By"
   ]
  },
  {
   "cell_type": "code",
   "execution_count": 2,
   "id": "fb93b1ae",
   "metadata": {},
   "outputs": [
    {
     "name": "stderr",
     "output_type": "stream",
     "text": [
      "C:\\Users\\pc\\AppData\\Local\\Temp\\ipykernel_24252\\80213923.py:2: DeprecationWarning: executable_path has been deprecated, please pass in a Service object\n",
      "  driver = webdriver.Chrome(r\"C:\\Users\\pc\\Downloads\\chromedriver_win32\\chromedriver.exe\")\n"
     ]
    }
   ],
   "source": [
    "# connect to the driver\n",
    "driver = webdriver.Chrome(r\"C:\\Users\\pc\\Downloads\\chromedriver_win32\\chromedriver.exe\")"
   ]
  },
  {
   "cell_type": "code",
   "execution_count": 3,
   "id": "58604cbe",
   "metadata": {},
   "outputs": [],
   "source": [
    "driver.get(\"http://www.amazon.in/\")"
   ]
  },
  {
   "cell_type": "code",
   "execution_count": 5,
   "id": "a2e43231",
   "metadata": {},
   "outputs": [],
   "source": [
    "search=driver.find_element(By.XPATH,'/html/body/div[1]/header/div/div[1]/div[2]/div/form/div[2]/div[1]/input')\n",
    "search.send_keys(\"Laptop\")"
   ]
  },
  {
   "cell_type": "code",
   "execution_count": 6,
   "id": "eefb17f5",
   "metadata": {},
   "outputs": [],
   "source": [
    "# enter search button\n",
    "search=driver.find_element(By.XPATH,'/html/body/div[1]/header/div/div[1]/div[2]/div/form/div[3]/div/span/input')\n",
    "search.click()"
   ]
  },
  {
   "cell_type": "code",
   "execution_count": 7,
   "id": "851f96d3",
   "metadata": {},
   "outputs": [],
   "source": [
    "core=driver.find_element(By.XPATH,'/html/body/div[1]/div[2]/div[1]/div[2]/div/div[3]/span/div[1]/div/div/div[6]/ul[6]/li[10]/span/a/span')\n",
    "core.click()"
   ]
  },
  {
   "cell_type": "code",
   "execution_count": 8,
   "id": "5db97283",
   "metadata": {},
   "outputs": [],
   "source": [
    "Title=[]\n",
    "Rating=[]\n",
    "Price=[]"
   ]
  },
  {
   "cell_type": "code",
   "execution_count": 9,
   "id": "ee6fbb97",
   "metadata": {},
   "outputs": [],
   "source": [
    "title=driver.find_elements(By.XPATH,'//span[@class=\"a-size-medium a-color-base a-text-normal\"]')\n",
    "for i in title[0:10]:\n",
    "    Title.append(i.text)\n",
    "\n",
    "r=driver.find_elements(By.XPATH,'//span[@class=\"a-size-base\"]')\n",
    "for i in r[0:10]:\n",
    "    Rating.append(i.text)\n",
    "    \n",
    "P=driver.find_elements(By.XPATH,'//span[@class=\"a-price-whole\"]')\n",
    "for i in P[0:10]:\n",
    "    Price.append(i.text)"
   ]
  },
  {
   "cell_type": "code",
   "execution_count": 10,
   "id": "0d96b285",
   "metadata": {},
   "outputs": [
    {
     "name": "stdout",
     "output_type": "stream",
     "text": [
      "10 10 10\n"
     ]
    }
   ],
   "source": [
    "print(len(Title),len(Rating),len(Price))"
   ]
  },
  {
   "cell_type": "code",
   "execution_count": 11,
   "id": "8dc6bb24",
   "metadata": {},
   "outputs": [
    {
     "data": {
      "text/html": [
       "<div>\n",
       "<style scoped>\n",
       "    .dataframe tbody tr th:only-of-type {\n",
       "        vertical-align: middle;\n",
       "    }\n",
       "\n",
       "    .dataframe tbody tr th {\n",
       "        vertical-align: top;\n",
       "    }\n",
       "\n",
       "    .dataframe thead th {\n",
       "        text-align: right;\n",
       "    }\n",
       "</style>\n",
       "<table border=\"1\" class=\"dataframe\">\n",
       "  <thead>\n",
       "    <tr style=\"text-align: right;\">\n",
       "      <th></th>\n",
       "      <th>Title</th>\n",
       "      <th>Rating</th>\n",
       "      <th>Price</th>\n",
       "    </tr>\n",
       "  </thead>\n",
       "  <tbody>\n",
       "    <tr>\n",
       "      <th>0</th>\n",
       "      <td>(Renewed) Dell Latitude E5470 Intel Core i5 6t...</td>\n",
       "      <td>3.6</td>\n",
       "      <td>17,824</td>\n",
       "    </tr>\n",
       "    <tr>\n",
       "      <th>1</th>\n",
       "      <td>(Renewed) DELL Latitude 5490 Core i5 8th Gen L...</td>\n",
       "      <td>3.2</td>\n",
       "      <td>23,558</td>\n",
       "    </tr>\n",
       "    <tr>\n",
       "      <th>2</th>\n",
       "      <td>HP ProBook 440 G8 Notebook PC, 11th Gen Intel ...</td>\n",
       "      <td>3.8</td>\n",
       "      <td>51,990</td>\n",
       "    </tr>\n",
       "    <tr>\n",
       "      <th>3</th>\n",
       "      <td>HP 15s, 12th Gen Intel Core i5 8GB RAM/512GB S...</td>\n",
       "      <td>4.1</td>\n",
       "      <td>56,990</td>\n",
       "    </tr>\n",
       "    <tr>\n",
       "      <th>4</th>\n",
       "      <td>(Renewed) Dell Intel 5th Gen Core i5 5300U 14-...</td>\n",
       "      <td>3.4</td>\n",
       "      <td>17,010</td>\n",
       "    </tr>\n",
       "    <tr>\n",
       "      <th>5</th>\n",
       "      <td>Lenovo (Renewed) Thinkpad T460 14-inch (35 cm)...</td>\n",
       "      <td>3.9</td>\n",
       "      <td>19,990</td>\n",
       "    </tr>\n",
       "    <tr>\n",
       "      <th>6</th>\n",
       "      <td>HP Pavilion 14 12th Gen Intel Core i5 16GB RAM...</td>\n",
       "      <td>4.1</td>\n",
       "      <td>68,000</td>\n",
       "    </tr>\n",
       "    <tr>\n",
       "      <th>7</th>\n",
       "      <td>(Renewed) DELL Latitude 5490 Core i5 7th Gen L...</td>\n",
       "      <td>4.6</td>\n",
       "      <td>19,103</td>\n",
       "    </tr>\n",
       "    <tr>\n",
       "      <th>8</th>\n",
       "      <td>(Renewed) Dell Latitude Laptop E7470 Intel Cor...</td>\n",
       "      <td>3.4</td>\n",
       "      <td>21,998</td>\n",
       "    </tr>\n",
       "    <tr>\n",
       "      <th>9</th>\n",
       "      <td>HP 15s, 12th Gen Intel Core i5 16GB RAM/512GB ...</td>\n",
       "      <td>3.9</td>\n",
       "      <td>62,626</td>\n",
       "    </tr>\n",
       "  </tbody>\n",
       "</table>\n",
       "</div>"
      ],
      "text/plain": [
       "                                               Title Rating   Price\n",
       "0  (Renewed) Dell Latitude E5470 Intel Core i5 6t...    3.6  17,824\n",
       "1  (Renewed) DELL Latitude 5490 Core i5 8th Gen L...    3.2  23,558\n",
       "2  HP ProBook 440 G8 Notebook PC, 11th Gen Intel ...    3.8  51,990\n",
       "3  HP 15s, 12th Gen Intel Core i5 8GB RAM/512GB S...    4.1  56,990\n",
       "4  (Renewed) Dell Intel 5th Gen Core i5 5300U 14-...    3.4  17,010\n",
       "5  Lenovo (Renewed) Thinkpad T460 14-inch (35 cm)...    3.9  19,990\n",
       "6  HP Pavilion 14 12th Gen Intel Core i5 16GB RAM...    4.1  68,000\n",
       "7  (Renewed) DELL Latitude 5490 Core i5 7th Gen L...    4.6  19,103\n",
       "8  (Renewed) Dell Latitude Laptop E7470 Intel Cor...    3.4  21,998\n",
       "9  HP 15s, 12th Gen Intel Core i5 16GB RAM/512GB ...    3.9  62,626"
      ]
     },
     "execution_count": 11,
     "metadata": {},
     "output_type": "execute_result"
    }
   ],
   "source": [
    "import pandas as pd\n",
    "data=pd.DataFrame({\"Title\":Title,\"Rating\":Rating,\"Price\":Price})\n",
    "data"
   ]
  },
  {
   "cell_type": "code",
   "execution_count": null,
   "id": "0a202ea9",
   "metadata": {},
   "outputs": [],
   "source": []
  }
 ],
 "metadata": {
  "kernelspec": {
   "display_name": "Python 3 (ipykernel)",
   "language": "python",
   "name": "python3"
  },
  "language_info": {
   "codemirror_mode": {
    "name": "ipython",
    "version": 3
   },
   "file_extension": ".py",
   "mimetype": "text/x-python",
   "name": "python",
   "nbconvert_exporter": "python",
   "pygments_lexer": "ipython3",
   "version": "3.9.13"
  }
 },
 "nbformat": 4,
 "nbformat_minor": 5
}
