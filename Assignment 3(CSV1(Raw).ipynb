{
 "cells": [
  {
   "cell_type": "markdown",
   "id": "830ae12b",
   "metadata": {},
   "source": [
    "Please scrap the data from the below mentioned link.\n",
    "\n",
    "https://www.imdb.com/search/title/?genres=action&sort=user_rating,desc&title_type=feature&num_votes=25000,&pf_rd_m=A2FGELUUNOQJNL&pf_rd_p=f11158cc-b50b-4c4d-b0a2-40b32863395b&pf_rd_r=XZ8X52H1R40B7KG5SNZ9&pf_rd_s=right-6&pf_rd_t=15506&pf_rd_i=top&ref_=chttp_gnr_1\n",
    "\n",
    "\n",
    "There are two csv files to be created with the following features:\n",
    "CSV1 (raw) - Name, year, rating, director, duration of the movie, metascore\n",
    "\n",
    "CSV2 (raw)  - Name, stars (cast), votes, genre, gross collection, popularity, certification(PG, PG13, PG14 ,...etc)\n",
    "\n",
    "Use preprocessing techniques to normalize the data further:\n",
    "create new columns where more than one field is present in any single feature like cast, genre, directors, etc.\n",
    "\n",
    "Please submit four files in the submissions:\n",
    "CSV1_raw, CSV2_raw, CSV1_normalized and CSV2_normalized."
   ]
  },
  {
   "cell_type": "code",
   "execution_count": 1,
   "id": "a502abd9",
   "metadata": {},
   "outputs": [],
   "source": [
    "import selenium\n",
    "from selenium import webdriver\n",
    "from selenium.webdriver.common.by import By\n",
    "from selenium.webdriver.support.ui import WebDriverWait\n",
    "from selenium.webdriver.support import expected_conditions as EC\n",
    "from selenium.common.exceptions import TimeoutException\n",
    "from time import sleep"
   ]
  },
  {
   "cell_type": "code",
   "execution_count": 2,
   "id": "47db053a",
   "metadata": {},
   "outputs": [
    {
     "name": "stderr",
     "output_type": "stream",
     "text": [
      "C:\\Users\\pc\\AppData\\Local\\Temp\\ipykernel_8660\\80213923.py:2: DeprecationWarning: executable_path has been deprecated, please pass in a Service object\n",
      "  driver = webdriver.Chrome(r\"C:\\Users\\pc\\Downloads\\chromedriver_win32\\chromedriver.exe\")\n"
     ]
    }
   ],
   "source": [
    "# connect to the driver\n",
    "driver = webdriver.Chrome(r\"C:\\Users\\pc\\Downloads\\chromedriver_win32\\chromedriver.exe\")"
   ]
  },
  {
   "cell_type": "code",
   "execution_count": 3,
   "id": "0e7810a9",
   "metadata": {},
   "outputs": [],
   "source": [
    "driver.get('https://www.imdb.com/search/title/?genres=action&sort=user_rating,desc&title_type=feature&num_votes=25000,&pf_rd_m=A2FGELUUNOQJNL&pf_rd_p=f11158cc-b50b-4c4d-b0a2-40b32863395b&pf_rd_r=XZ8X52H1R40B7KG5SNZ9&pf_rd_s=right-6&pf_rd_t=15506&pf_rd_i=top&ref_=chttp_gnr_1')"
   ]
  },
  {
   "cell_type": "code",
   "execution_count": 4,
   "id": "4e995145",
   "metadata": {},
   "outputs": [
    {
     "name": "stdout",
     "output_type": "stream",
     "text": [
      "['The Dark Knight', 'The Lord of the Rings: The Return of the King', 'The Lord of the Rings: The Fellowship of the Ring', 'Inception', 'The Lord of the Rings: The Two Towers', 'The Matrix', 'Star Wars: Episode V - The Empire Strikes Back', 'Soorarai Pottru', 'Star Wars: Episode IV - A New Hope', 'Terminator 2: Judgment Day', 'Seven Samurai', 'Harakiri', 'Sita Ramam', 'Gladiator', 'Léon: The Professional', 'Kaithi', 'Raiders of the Lost Ark', 'Avengers: Endgame', 'The Dark Knight Rises', 'Avengers: Infinity War', 'Oldboy', 'Spider-Man: Into the Spider-Verse', 'Aliens', 'Asuran', 'Top Gun: Maverick', 'Heat', 'Star Wars: Episode VI - Return of the Jedi', 'Kantara', 'Princess Mononoke', 'North by Northwest', 'Vikram', 'Dangal', 'K.G.F: Chapter 2', 'Shershaah', 'Raatchasan', 'Spider-Man: No Way Home', 'Jurassic Park', '1917', 'Indiana Jones and the Last Crusade', 'Batman Begins', 'Kill Bill: Vol. 1', 'Lock, Stock and Two Smoking Barrels', 'Die Hard', 'V for Vendetta', 'Warrior', 'Demon Slayer the Movie: Mugen Train', 'Ran', 'Baahubali 2: The Conclusion', 'Gangs of Wasseypur', 'Yojimbo']\n"
     ]
    }
   ],
   "source": [
    "Name=[]\n",
    "name=driver.find_elements(By.XPATH,'/html/body/div[2]/div/div[2]/div[3]/div[1]/div/div[3]/div/div/div[3]/h3/a')\n",
    "for i in name[0:len(name)]:\n",
    "    Name.append(i.text)\n",
    "print(Name)\n"
   ]
  },
  {
   "cell_type": "code",
   "execution_count": 5,
   "id": "06958711",
   "metadata": {},
   "outputs": [
    {
     "name": "stdout",
     "output_type": "stream",
     "text": [
      "['2008', '2003', '2001', '2010', '2002', '1999', '1980', '2020', '1977', '1991', '1954', '1962', '2022', '2000', '1994', '2019', '1981', '2019', '2012', '2018', '2003', '2018', '1986', '2019', '2022', '1995', '1983', '2022', '1997', '1959', '2022', '2016', '2022', '2021', '2018', '2021', '1993', '2019', '1989', '2005', '2003', '1998', '1988', '2005', '2011', '2020', '1985', '2017', '2012', '1961']\n"
     ]
    }
   ],
   "source": [
    "Year=[]\n",
    "year=driver.find_elements(By.XPATH,'/html/body//div/div//div/div//div/div/div[3]/h3/span[2]')\n",
    "for i in year[0:len(year)]:\n",
    "    Year.append(i.text.split(\"(\")[-1].split(\")\")[0])\n",
    "print(Year)\n"
   ]
  },
  {
   "cell_type": "code",
   "execution_count": 6,
   "id": "0cd3413f",
   "metadata": {},
   "outputs": [
    {
     "name": "stdout",
     "output_type": "stream",
     "text": [
      "['9.0', '9.0', '8.8', '8.8', '8.8', '8.7', '8.7', '8.7', '8.6', '8.6', '8.6', '8.6', '8.6', '8.5', '8.5', '8.5', '8.4', '8.4', '8.4', '8.4', '8.4', '8.4', '8.4', '8.4', '8.3', '8.3', '8.3', '8.3', '8.3', '8.3', '8.3', '8.3', '8.3', '8.3', '8.3', '8.2', '8.2', '8.2', '8.2', '8.2', '8.2', '8.2', '8.2', '8.2', '8.2', '8.2', '8.2', '8.2', '8.2', '8.2']\n"
     ]
    }
   ],
   "source": [
    "ratings=[]\n",
    "rating=driver.find_elements(By.XPATH,\"/html/body/div[2]/div/div[2]/div[3]/div[1]/div/div[3]/div/div//div//strong\")\n",
    "for i in rating[0:len(rating)]:\n",
    "    ratings.append(i.text)\n",
    "print(ratings)\n",
    "    "
   ]
  },
  {
   "cell_type": "code",
   "execution_count": 7,
   "id": "d025c194",
   "metadata": {},
   "outputs": [
    {
     "name": "stdout",
     "output_type": "stream",
     "text": [
      "[' Christopher Nolan ', ' Peter Jackson ', ' Peter Jackson ', ' Christopher Nolan ', ' Peter Jackson ', ' Lana Wachowski, Lilly Wachowski ', ' Irvin Kershner ', ' Sudha Kongara ', ' George Lucas ', ' James Cameron ', ' Akira Kurosawa ', ' Masaki Kobayashi ', ' Hanu Raghavapudi ', ' Ridley Scott ', ' Luc Besson ', ' Lokesh Kanagaraj ', ' Steven Spielberg ', ' Anthony Russo, Joe Russo ', ' Christopher Nolan ', ' Anthony Russo, Joe Russo ', ' Park Chan-wook ', ' Bob Persichetti, Peter Ramsey, Rodney Rothman ', ' James Cameron ', ' Vetrimaaran ', ' Joseph Kosinski ', ' Michael Mann ', ' Richard Marquand ', ' Rishab Shetty ', ' Hayao Miyazaki ', ' Alfred Hitchcock ', ' Lokesh Kanagaraj ', ' Nitesh Tiwari ', ' Prashanth Neel ', ' Vishnuvardhan ', ' Ram Kumar ', ' Jon Watts ', ' Steven Spielberg ', ' Sam Mendes ', ' Steven Spielberg ', ' Christopher Nolan ', ' Quentin Tarantino ', ' Guy Ritchie ', ' John McTiernan ', ' James McTeigue ', \" Gavin O'Connor \", ' Haruo Sotozaki ', ' Akira Kurosawa ', ' S.S. Rajamouli ', ' Anurag Kashyap ', ' Akira Kurosawa ']\n"
     ]
    }
   ],
   "source": [
    "Director=[]\n",
    "director=driver.find_elements(By.XPATH,\"//div[@class='lister-item-content']/p[@class='']\")\n",
    "for i in director[0:len(director)]:\n",
    "    Director.append(i.text.split(\"|\")[0].split(\":\")[1])\n",
    "print(Director)\n",
    "    "
   ]
  },
  {
   "cell_type": "code",
   "execution_count": 8,
   "id": "c19c4131",
   "metadata": {},
   "outputs": [
    {
     "name": "stdout",
     "output_type": "stream",
     "text": [
      "['152 min', '201 min', '178 min', '148 min', '179 min', '136 min', '124 min', '153 min', '121 min', '137 min', '207 min', '133 min', '163 min', '155 min', '110 min', '145 min', '115 min', '181 min', '164 min', '149 min', '101 min', '117 min', '137 min', '141 min', '130 min', '170 min', '131 min', '148 min', '134 min', '136 min', '175 min', '161 min', '168 min', '135 min', '170 min', '148 min', '127 min', '119 min', '127 min', '140 min', '111 min', '107 min', '132 min', '132 min', '140 min', '117 min', '162 min', '167 min', '321 min', '110 min']\n"
     ]
    }
   ],
   "source": [
    "Duration=[]\n",
    "duration=driver.find_elements(By.XPATH,'//span[@class=\"runtime\"]')\n",
    "for i in duration[0:len(duration)]:\n",
    "    Duration.append(i.text)\n",
    "print(Duration)\n",
    "    "
   ]
  },
  {
   "cell_type": "code",
   "execution_count": 9,
   "id": "e0c86007",
   "metadata": {},
   "outputs": [
    {
     "name": "stdout",
     "output_type": "stream",
     "text": [
      "['84', '94', '92', '74', '87', '73', '82', '90', '75', '98', '85', '67', '64', '85', '78', '78', '68', '77', '87', '84', '78', '76', '76', '98', '71', '68', '78', '65', '70', '69', '66', '72', '62', '71', '72', '96', '89', '93']\n"
     ]
    }
   ],
   "source": [
    "Metascore=[]\n",
    "mscore=driver.find_elements(By.XPATH,'//span[@class=\"metascore  favorable\"]')\n",
    "for i in mscore[0:len(duration)]:\n",
    "    Metascore.append(i.text)\n",
    "print(Metascore)    "
   ]
  },
  {
   "cell_type": "code",
   "execution_count": 10,
   "id": "0d65bcd7",
   "metadata": {},
   "outputs": [],
   "source": [
    "Name=[]\n",
    "Year=[]\n",
    "ratings=[]\n",
    "Director=[]\n",
    "Duration=[]\n",
    "Meatascore=[]"
   ]
  },
  {
   "cell_type": "code",
   "execution_count": 11,
   "id": "1d4fa46e",
   "metadata": {},
   "outputs": [],
   "source": [
    "start=0\n",
    "end= 35\n",
    "for page in range(start,end):\n",
    "    name=driver.find_elements(By.XPATH,'/html/body/div[2]/div/div[2]/div[3]/div[1]/div/div[3]/div/div/div[3]/h3/a')\n",
    "    for i in name[0:len(name)]:\n",
    "        Name.append(i.text)\n",
    "    year=driver.find_elements(By.XPATH,'//span[@class=\"lister-item-year text-muted unbold\"]')\n",
    "    for i in year[0:len(year)]:\n",
    "        Year.append(i.text.split(\"(\")[-1].split(\")\")[0])\n",
    "    rating=driver.find_elements(By.XPATH,\"/html/body/div[2]/div/div[2]/div[3]/div[1]/div/div[3]/div/div//div//strong\")\n",
    "    for i in rating[0:len(rating)]:\n",
    "        ratings.append(i.text)\n",
    "    director=driver.find_elements(By.XPATH,\"//div[@class='lister-item-content']/p[@class='']\")\n",
    "    for i in director[0:len(director)]:\n",
    "        Director.append(i.text.split(\"|\")[0].split(\":\")[1])\n",
    "    duration=driver.find_elements(By.XPATH,'//span[@class=\"runtime\"]')\n",
    "    for i in duration[0:len(duration)]:\n",
    "        Duration.append(i.text)\n",
    "    mscore=driver.find_elements(By.XPATH,'//span[@class=\"metascore  favorable\"]')\n",
    "    for i in mscore[0:len(duration)]:\n",
    "        Metascore.append(i.text)\n",
    "      # wait up to 10s before locating next button\n",
    "    try:    \n",
    "        next_button = WebDriverWait(driver, 10).until(EC.element_to_be_clickable((By.XPATH, \"//a[contains(@class, 'page') and contains(text(), 'Next')]\")))\n",
    "\n",
    "        # scroll down to button using Javascript\n",
    "        driver.execute_script(\"arguments[0].scrollIntoView(true);\", next_button)\n",
    "\n",
    "        # click the button\n",
    "    #    next_button.click() this throws exception -- replace with JS click\n",
    "        driver.execute_script(\"arguments[0].click();\", next_button)\n",
    "\n",
    "        # I never recommend using sleep like this, but WebDriverWait is not waiting on next button to fully load, so it goes stale.\n",
    "        sleep(5)\n",
    "\n",
    "    # case: next button no longer exists, we have reached the end\n",
    "    except TimeoutException:\n",
    "        break\n",
    "#     next_button=driver.find_element(By.XPATH,'//a[@class=\"lister-page-next next-page\"]')\n",
    "#     next_button.click()\n",
    "#     time.sleep(3) "
   ]
  },
  {
   "cell_type": "code",
   "execution_count": 12,
   "id": "dfae7312",
   "metadata": {},
   "outputs": [
    {
     "name": "stdout",
     "output_type": "stream",
     "text": [
      "1726 1726 1726 1726 1726 564\n"
     ]
    }
   ],
   "source": [
    "print(len(Name),len(Year),len(ratings),len(Director),len(Duration),len(Metascore))"
   ]
  },
  {
   "cell_type": "code",
   "execution_count": 13,
   "id": "03e4b735",
   "metadata": {},
   "outputs": [
    {
     "name": "stdout",
     "output_type": "stream",
     "text": [
      "example.csv has been created!\n"
     ]
    }
   ],
   "source": [
    "import csv\n",
    "\n",
    "data = [['Name','Year','ratings','Director','Duration of the movie','Metascore'],Name,Year,ratings,Director,Duration,Metascore]\n",
    "\n",
    "filename = 'example.csv'\n",
    "\n",
    "with open(filename, 'w', newline='') as csvfile:\n",
    "    csvwriter = csv.writer(csvfile)\n",
    "    for row in data:\n",
    "        csvwriter.writerow(row)\n",
    "\n",
    "print(f\"{filename} has been created!\")"
   ]
  },
  {
   "cell_type": "code",
   "execution_count": 14,
   "id": "d64a37fe",
   "metadata": {},
   "outputs": [],
   "source": [
    "# df=pd.DataFrame([Name,Year,ratings,Director,Duration,Metascore])\n",
    "# df"
   ]
  },
  {
   "cell_type": "code",
   "execution_count": 15,
   "id": "bbca5d7c",
   "metadata": {},
   "outputs": [],
   "source": [
    "import pandas as pd\n",
    "df=pd.DataFrame([Name,Year,ratings,Director,Duration,Metascore])\n",
    "df1=df.T\n",
    "df1.to_csv(\"csv1(raw).csv\",index=False,header=['Name','Year','ratings','Director','Duration of the movie','Metascore'])"
   ]
  },
  {
   "cell_type": "code",
   "execution_count": 16,
   "id": "dd0fb61f",
   "metadata": {},
   "outputs": [
    {
     "data": {
      "text/html": [
       "<div>\n",
       "<style scoped>\n",
       "    .dataframe tbody tr th:only-of-type {\n",
       "        vertical-align: middle;\n",
       "    }\n",
       "\n",
       "    .dataframe tbody tr th {\n",
       "        vertical-align: top;\n",
       "    }\n",
       "\n",
       "    .dataframe thead th {\n",
       "        text-align: right;\n",
       "    }\n",
       "</style>\n",
       "<table border=\"1\" class=\"dataframe\">\n",
       "  <thead>\n",
       "    <tr style=\"text-align: right;\">\n",
       "      <th></th>\n",
       "      <th>Name</th>\n",
       "      <th>Year</th>\n",
       "      <th>ratings</th>\n",
       "      <th>Director</th>\n",
       "      <th>Duration of the movie</th>\n",
       "      <th>Metascore</th>\n",
       "    </tr>\n",
       "  </thead>\n",
       "  <tbody>\n",
       "    <tr>\n",
       "      <th>0</th>\n",
       "      <td>The Dark Knight</td>\n",
       "      <td>2008</td>\n",
       "      <td>9.0</td>\n",
       "      <td>Christopher Nolan</td>\n",
       "      <td>152 min</td>\n",
       "      <td>84.0</td>\n",
       "    </tr>\n",
       "    <tr>\n",
       "      <th>1</th>\n",
       "      <td>The Lord of the Rings: The Return of the King</td>\n",
       "      <td>2003</td>\n",
       "      <td>9.0</td>\n",
       "      <td>Peter Jackson</td>\n",
       "      <td>201 min</td>\n",
       "      <td>94.0</td>\n",
       "    </tr>\n",
       "    <tr>\n",
       "      <th>2</th>\n",
       "      <td>The Lord of the Rings: The Fellowship of the Ring</td>\n",
       "      <td>2001</td>\n",
       "      <td>8.8</td>\n",
       "      <td>Peter Jackson</td>\n",
       "      <td>178 min</td>\n",
       "      <td>92.0</td>\n",
       "    </tr>\n",
       "    <tr>\n",
       "      <th>3</th>\n",
       "      <td>Inception</td>\n",
       "      <td>2010</td>\n",
       "      <td>8.8</td>\n",
       "      <td>Christopher Nolan</td>\n",
       "      <td>148 min</td>\n",
       "      <td>74.0</td>\n",
       "    </tr>\n",
       "    <tr>\n",
       "      <th>4</th>\n",
       "      <td>The Lord of the Rings: The Two Towers</td>\n",
       "      <td>2002</td>\n",
       "      <td>8.8</td>\n",
       "      <td>Peter Jackson</td>\n",
       "      <td>179 min</td>\n",
       "      <td>87.0</td>\n",
       "    </tr>\n",
       "    <tr>\n",
       "      <th>...</th>\n",
       "      <td>...</td>\n",
       "      <td>...</td>\n",
       "      <td>...</td>\n",
       "      <td>...</td>\n",
       "      <td>...</td>\n",
       "      <td>...</td>\n",
       "    </tr>\n",
       "    <tr>\n",
       "      <th>1721</th>\n",
       "      <td>Radhe</td>\n",
       "      <td>2021</td>\n",
       "      <td>1.9</td>\n",
       "      <td>Prabhu Deva</td>\n",
       "      <td>135 min</td>\n",
       "      <td>NaN</td>\n",
       "    </tr>\n",
       "    <tr>\n",
       "      <th>1722</th>\n",
       "      <td>Race 3</td>\n",
       "      <td>2018</td>\n",
       "      <td>1.9</td>\n",
       "      <td>Remo D'Souza</td>\n",
       "      <td>160 min</td>\n",
       "      <td>NaN</td>\n",
       "    </tr>\n",
       "    <tr>\n",
       "      <th>1723</th>\n",
       "      <td>Angels Apocalypse</td>\n",
       "      <td>2015</td>\n",
       "      <td>1.6</td>\n",
       "      <td>Sean Cain, Enzo Zelocchi</td>\n",
       "      <td>85 min</td>\n",
       "      <td>NaN</td>\n",
       "    </tr>\n",
       "    <tr>\n",
       "      <th>1724</th>\n",
       "      <td>The Cost of Deception</td>\n",
       "      <td>2021</td>\n",
       "      <td>1.5</td>\n",
       "      <td>Keith English</td>\n",
       "      <td>125 min</td>\n",
       "      <td>NaN</td>\n",
       "    </tr>\n",
       "    <tr>\n",
       "      <th>1725</th>\n",
       "      <td>Sadak 2</td>\n",
       "      <td>2020</td>\n",
       "      <td>1.2</td>\n",
       "      <td>Mahesh Bhatt</td>\n",
       "      <td>133 min</td>\n",
       "      <td>NaN</td>\n",
       "    </tr>\n",
       "  </tbody>\n",
       "</table>\n",
       "<p>1726 rows × 6 columns</p>\n",
       "</div>"
      ],
      "text/plain": [
       "                                                   Name  Year  ratings  \\\n",
       "0                                       The Dark Knight  2008      9.0   \n",
       "1         The Lord of the Rings: The Return of the King  2003      9.0   \n",
       "2     The Lord of the Rings: The Fellowship of the Ring  2001      8.8   \n",
       "3                                             Inception  2010      8.8   \n",
       "4                 The Lord of the Rings: The Two Towers  2002      8.8   \n",
       "...                                                 ...   ...      ...   \n",
       "1721                                              Radhe  2021      1.9   \n",
       "1722                                             Race 3  2018      1.9   \n",
       "1723                                  Angels Apocalypse  2015      1.6   \n",
       "1724                              The Cost of Deception  2021      1.5   \n",
       "1725                                            Sadak 2  2020      1.2   \n",
       "\n",
       "                        Director Duration of the movie  Metascore  \n",
       "0             Christopher Nolan                152 min       84.0  \n",
       "1                 Peter Jackson                201 min       94.0  \n",
       "2                 Peter Jackson                178 min       92.0  \n",
       "3             Christopher Nolan                148 min       74.0  \n",
       "4                 Peter Jackson                179 min       87.0  \n",
       "...                          ...                   ...        ...  \n",
       "1721                Prabhu Deva                135 min        NaN  \n",
       "1722               Remo D'Souza                160 min        NaN  \n",
       "1723   Sean Cain, Enzo Zelocchi                 85 min        NaN  \n",
       "1724              Keith English                125 min        NaN  \n",
       "1725               Mahesh Bhatt                133 min        NaN  \n",
       "\n",
       "[1726 rows x 6 columns]"
      ]
     },
     "execution_count": 16,
     "metadata": {},
     "output_type": "execute_result"
    }
   ],
   "source": [
    "import pandas as pd\n",
    "df_csv1_raw=pd.read_csv(\"csv1(raw).csv\")\n",
    "df_csv1_raw"
   ]
  },
  {
   "cell_type": "code",
   "execution_count": 17,
   "id": "71ba77f5",
   "metadata": {},
   "outputs": [
    {
     "data": {
      "text/plain": [
       "array([2008, 2003, 2001, 2010, 2002, 1999, 1980, 2020, 1977, 1991, 1954,\n",
       "       1962, 2022, 2000, 1994, 2019, 1981, 2012, 2018, 1986, 1995, 1983,\n",
       "       1997, 1959, 2016, 2021, 1993, 1989, 2005, 1998, 1988, 2011, 1985,\n",
       "       2017, 1961, 1924, 2015, 1982, 1984, 2013, 1926, 1958, 1949, 1975,\n",
       "       2014, 2006, 2004, 2007, 2009, 1964, 1969, 1938, 1987, 1972, 1967,\n",
       "       1992, 1971, 1960, 1973, 1932, 1948, 1979, 1968, 1996, 1974, 1990,\n",
       "       1963, 1970, 1978, 1976, 2023, 1966, 1953, 1965], dtype=int64)"
      ]
     },
     "execution_count": 17,
     "metadata": {},
     "output_type": "execute_result"
    }
   ],
   "source": [
    "df_csv1_raw['Year'].unique()"
   ]
  },
  {
   "cell_type": "code",
   "execution_count": 18,
   "id": "dda3d3e5",
   "metadata": {},
   "outputs": [
    {
     "data": {
      "text/plain": [
       "(array([], dtype=int64),)"
      ]
     },
     "execution_count": 18,
     "metadata": {},
     "output_type": "execute_result"
    }
   ],
   "source": [
    "import numpy as np\n",
    "np.where(df_csv1_raw['Year']=='III')"
   ]
  },
  {
   "cell_type": "code",
   "execution_count": 19,
   "id": "1e594fa5",
   "metadata": {},
   "outputs": [
    {
     "data": {
      "text/plain": [
       "(array([], dtype=int64),)"
      ]
     },
     "execution_count": 19,
     "metadata": {},
     "output_type": "execute_result"
    }
   ],
   "source": [
    "np.where(df_csv1_raw['Year']=='II')"
   ]
  },
  {
   "cell_type": "code",
   "execution_count": 20,
   "id": "82010cdf",
   "metadata": {},
   "outputs": [
    {
     "data": {
      "text/plain": [
       "(array([], dtype=int64),)"
      ]
     },
     "execution_count": 20,
     "metadata": {},
     "output_type": "execute_result"
    }
   ],
   "source": [
    "np.where(df_csv1_raw['Year']=='IV')"
   ]
  },
  {
   "cell_type": "code",
   "execution_count": 21,
   "id": "ff892346",
   "metadata": {},
   "outputs": [
    {
     "data": {
      "text/plain": [
       "(array([], dtype=int64),)"
      ]
     },
     "execution_count": 21,
     "metadata": {},
     "output_type": "execute_result"
    }
   ],
   "source": [
    "np.where(df_csv1_raw['Year']=='I')"
   ]
  },
  {
   "cell_type": "code",
   "execution_count": null,
   "id": "62f3b3b2",
   "metadata": {},
   "outputs": [],
   "source": []
  }
 ],
 "metadata": {
  "kernelspec": {
   "display_name": "Python 3 (ipykernel)",
   "language": "python",
   "name": "python3"
  },
  "language_info": {
   "codemirror_mode": {
    "name": "ipython",
    "version": 3
   },
   "file_extension": ".py",
   "mimetype": "text/x-python",
   "name": "python",
   "nbconvert_exporter": "python",
   "pygments_lexer": "ipython3",
   "version": "3.9.13"
  }
 },
 "nbformat": 4,
 "nbformat_minor": 5
}
