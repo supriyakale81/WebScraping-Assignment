{
 "cells": [
  {
   "cell_type": "markdown",
   "id": "2ccf4a71",
   "metadata": {},
   "source": [
    "### Scrape data of first 100 sunglasses listings on flipkart.com. You have to scrape four attributes:\n",
    "1. Brand\n",
    "2. ProductDescription\n",
    "3. Price\n",
    "#### To scrape the data you have to go through following steps:\n",
    "1. Go to Flipkart webpage by url :https://www.flipkart.com/\n",
    "2. Enter “sunglasses” in the search field where “search for products, brands and more” is written and click the search icon\n",
    "3. After that you will reach to the page having a lot of sunglasses. From this page you can scrap the required data asusual\n",
    "4. After scraping data from the first page, go to the “Next” Button at the bottom other page , then click on it.\n",
    "5. Now scrape data from this page asusual\n",
    "6. Repeat this until you get data for 100sunglasses"
   ]
  },
  {
   "cell_type": "code",
   "execution_count": 1,
   "id": "4fd3d8d1",
   "metadata": {},
   "outputs": [],
   "source": [
    "from selenium import webdriver\n",
    "from selenium.webdriver.common.by import By\n",
    "import time"
   ]
  },
  {
   "cell_type": "code",
   "execution_count": 2,
   "id": "31f882d1",
   "metadata": {},
   "outputs": [
    {
     "name": "stderr",
     "output_type": "stream",
     "text": [
      "C:\\Users\\pc\\AppData\\Local\\Temp\\ipykernel_4828\\80213923.py:2: DeprecationWarning: executable_path has been deprecated, please pass in a Service object\n",
      "  driver = webdriver.Chrome(r\"C:\\Users\\pc\\Downloads\\chromedriver_win32\\chromedriver.exe\")\n"
     ]
    }
   ],
   "source": [
    "# connect to the driver\n",
    "driver = webdriver.Chrome(r\"C:\\Users\\pc\\Downloads\\chromedriver_win32\\chromedriver.exe\")"
   ]
  },
  {
   "cell_type": "code",
   "execution_count": 3,
   "id": "38d30ab7",
   "metadata": {},
   "outputs": [],
   "source": [
    "driver.get(\"https://www.flipkart.com/\")"
   ]
  },
  {
   "cell_type": "code",
   "execution_count": 4,
   "id": "ac47e601",
   "metadata": {},
   "outputs": [],
   "source": [
    "product=driver.find_element(By.CLASS_NAME,\"_3704LK\")\n",
    "product.send_keys(\"sunglasses\")"
   ]
  },
  {
   "cell_type": "code",
   "execution_count": 5,
   "id": "a10c659c",
   "metadata": {},
   "outputs": [],
   "source": [
    "search=driver.find_element(By.CLASS_NAME,\"L0Z3Pu\")\n",
    "search.click()"
   ]
  },
  {
   "cell_type": "code",
   "execution_count": 6,
   "id": "142284a3",
   "metadata": {},
   "outputs": [],
   "source": [
    "Name=[]\n",
    "name=driver.find_elements(By.XPATH,'//div[@class=\"_2WkVRV\"]')\n",
    "for i in name:\n",
    "    Name.append(i.text)"
   ]
  },
  {
   "cell_type": "code",
   "execution_count": 7,
   "id": "d1008b05",
   "metadata": {},
   "outputs": [
    {
     "name": "stdout",
     "output_type": "stream",
     "text": [
      "['Elligator', 'OAKLEY', 'NuVew', 'Elligator', 'NuVew', 'NuVew', 'Fastrack', 'SRPM', 'PIRASO', 'Fastrack', 'Fastrack', 'Silver Kartz', 'NuVew', 'NuVew', 'PIRASO', 'SRPM', 'Fastrack', 'Elligator', 'PIRASO', 'VINCENT CHASE', 'Sewell', 'SUNBEE', 'Elligator', 'SRPM', 'Fastrack', 'SRPM', 'NuVew', 'Silver Kartz', 'New Specs', 'Fastrack', 'NuVew', 'Elligator', 'NuVew', 'NuVew', 'PIRASO', 'ROZZETTA CRAFT', 'NuVew', 'SHAAH COLLECTIONS', 'Fastrack', 'Silver Kartz']\n"
     ]
    }
   ],
   "source": [
    "print(Name)"
   ]
  },
  {
   "cell_type": "code",
   "execution_count": 8,
   "id": "81336ad1",
   "metadata": {},
   "outputs": [],
   "source": [
    "Description=[]\n",
    "product_decrption=driver.find_elements(By.XPATH,'//a[@class=\"IRpwTa\"]')\n",
    "for i in product_decrption:\n",
    "    Description.append(i.text)"
   ]
  },
  {
   "cell_type": "code",
   "execution_count": 9,
   "id": "39eb9332",
   "metadata": {},
   "outputs": [
    {
     "name": "stdout",
     "output_type": "stream",
     "text": [
      "['UV Protection Cat-eye, Retro Square, Oval, Round Sungla...', 'Shield Sunglass', 'UV Protection Wayfarer Sunglasses (57)', 'UV Protection Cat-eye, Retro Square, Oval, Round Sungla...', 'UV Protection, Mirrored Wayfarer Sunglasses (57)', 'UV Protection, Mirrored Wayfarer Sunglasses (58)', 'UV Protection Rectangular Sunglasses (Free Size)', 'UV Protection Wayfarer Sunglasses (53)', 'UV Protection Aviator Sunglasses (58)', 'Gradient, UV Protection Wayfarer Sunglasses (Free Size)', 'Gradient, UV Protection Wayfarer Sunglasses (Free Size)', 'UV Protection Aviator Sunglasses (88)', 'UV Protection Sports Sunglasses (65)', 'UV Protection, Mirrored Wayfarer Sunglasses (58)', 'UV Protection Clubmaster Sunglasses (54)', 'UV Protection Wayfarer Sunglasses (50)', 'UV Protection Aviator Sunglasses (Free Size)', 'UV Protection Wayfarer Sunglasses (53)', 'UV Protection Aviator Sunglasses (Free Size)', 'Polarized, UV Protection Round Sunglasses (50)', 'Mirrored, Night Vision, UV Protection, Riding Glasses S...', 'UV Protection, Polarized Wayfarer Sunglasses (Free Size...', 'UV Protection Aviator, Wayfarer Sunglasses (54)', 'Others Wayfarer, Retro Square, Rectangular Sunglasses (...', 'UV Protection Wayfarer Sunglasses (Free Size)', 'UV Protection Wayfarer Sunglasses (50)', 'UV Protection, Mirrored Round Sunglasses (50)', 'UV Protection Clubmaster Sunglasses (53)', 'UV Protection Rectangular Sunglasses (Free Size)', 'UV Protection Wayfarer Sunglasses (Free Size)', 'UV Protection Aviator Sunglasses (57)', 'UV Protection Cat-eye, Retro Square, Oval, Round Sungla...', 'UV Protection Aviator Sunglasses (57)', 'UV Protection, Mirrored Wayfarer Sunglasses (58)', 'UV Protection Aviator Sunglasses (54)', 'UV Protection, Gradient Round Sunglasses (Free Size)', 'UV Protection, Mirrored Aviator Sunglasses (57)', 'UV Protection, Polarized, Mirrored Rectangular Sunglass...', 'UV Protection Wayfarer Sunglasses (52)', 'UV Protection Wayfarer Sunglasses (Free Size)']\n"
     ]
    }
   ],
   "source": [
    "print(Description)"
   ]
  },
  {
   "cell_type": "code",
   "execution_count": 10,
   "id": "592de64d",
   "metadata": {},
   "outputs": [],
   "source": [
    "Price=[]\n",
    "price=driver.find_elements(By.CLASS_NAME,\"_30jeq3\")\n",
    "for i in price:\n",
    "    Price.append(i.text.split(\"₹\")[1])\n"
   ]
  },
  {
   "cell_type": "code",
   "execution_count": 11,
   "id": "6841f71b",
   "metadata": {},
   "outputs": [
    {
     "name": "stdout",
     "output_type": "stream",
     "text": [
      "['129', '6,149', '129', '149', '99', '99', '519', '199', '321', '519', '579', '284', '129', '99', '224', '179', '579', '198', '268', '829', '281', '283', '149', '199', '649', '218', '99', '278', '259', '649', '125', '129', '129', '99', '250', '391', '129', '185', '519', '284', '284', '129', '268', '579', '149']\n"
     ]
    }
   ],
   "source": [
    "print(Price)"
   ]
  },
  {
   "cell_type": "code",
   "execution_count": 12,
   "id": "fdee0a37",
   "metadata": {},
   "outputs": [],
   "source": [
    "\n",
    "offer=[]\n",
    "off=driver.find_elements(By.XPATH,'//div[@class=\"_3Ay6Sb\"]')\n",
    "for i in off:\n",
    "    offer.append(i.text.split(\" \")[0])\n"
   ]
  },
  {
   "cell_type": "code",
   "execution_count": 13,
   "id": "5449a97b",
   "metadata": {},
   "outputs": [
    {
     "name": "stdout",
     "output_type": "stream",
     "text": [
      "['74%', '30%', '84%', '75%', '88%', '88%', '35%', '80%', '87%', '42%', '35%', '76%', '86%', '88%', '85%', '86%', '35%', '84%', '83%', '58%', '81%', '78%', '88%', '86%', '35%', '83%', '87%', '81%', '90%', '35%', '83%', '74%', '82%', '88%', '84%', '80%', '82%', '89%', '42%', '81%']\n"
     ]
    }
   ],
   "source": [
    "print(offer)"
   ]
  },
  {
   "cell_type": "code",
   "execution_count": 14,
   "id": "9155837f",
   "metadata": {},
   "outputs": [],
   "source": [
    "\n",
    "URL=[]\n",
    "url=driver.find_elements(By.XPATH,'//a[@class=\"_3bPFwb\"]')\n",
    "for i in url:\n",
    "    URL.append(i.get_attribute('href'))\n"
   ]
  },
  {
   "cell_type": "code",
   "execution_count": 15,
   "id": "4d09de70",
   "metadata": {},
   "outputs": [
    {
     "name": "stdout",
     "output_type": "stream",
     "text": [
      "['https://www.flipkart.com/elligator-cat-eye-retro-square-oval-round-sunglasses/p/itmc4ec56504c25d?pid=SGLGHBTW8H9SZFWE&lid=LSTSGLGHBTW8H9SZFWECL7RUU&marketplace=FLIPKART&q=sunglasses&store=26x&srno=s_1_1&otracker=search&otracker1=search&fm=organic&iid=en_K7CW4olSZhnOY5tZFu36N8SscTEkzYSD4k7ndilcXjCx%2FHdOG5Y3TrGHPLcYtBFhAkQLIP2%2FzxbvOyPSNGWIWQ%3D%3D&ppt=hp&ppn=homepage&ssid=vs09do8o4g0000001677491714460&qH=2cc465e3eef5bff0', 'https://www.flipkart.com/oakley-shield-sunglass/p/itmfc5e193f58982?pid=SGLGC3HZWEJZYFVC&lid=LSTSGLGC3HZWEJZYFVCGGBTDM&marketplace=FLIPKART&q=sunglasses&store=26x&srno=s_1_2&otracker=search&otracker1=search&fm=organic&iid=en_K7CW4olSZhnOY5tZFu36N8SscTEkzYSD4k7ndilcXjDiHtsNNpuzAbVxU9GI%2FKFpuIGpDRPijZCXTjvny1Qjfw%3D%3D&ppt=hp&ppn=homepage&ssid=vs09do8o4g0000001677491714460&qH=2cc465e3eef5bff0', 'https://www.flipkart.com/nuvew-wayfarer-sunglasses/p/itm1d163ba76101c?pid=SGLFPKXRXW4RVPRB&lid=LSTSGLFPKXRXW4RVPRBNZTKKJ&marketplace=FLIPKART&q=sunglasses&store=26x&srno=s_1_3&otracker=search&otracker1=search&fm=organic&iid=20b460cd-af83-4da6-b830-eb7d9caf6833.SGLFPKXRXW4RVPRB.SEARCH&ppt=hp&ppn=homepage&ssid=vs09do8o4g0000001677491714460&qH=2cc465e3eef5bff0', 'https://www.flipkart.com/elligator-cat-eye-retro-square-oval-round-sunglasses/p/itm66596f152a3af?pid=SGLGGV2EVRWE9H9J&lid=LSTSGLGGV2EVRWE9H9JPS3A7W&marketplace=FLIPKART&q=sunglasses&store=26x&spotlightTagId=BestsellerId_26x&srno=s_1_4&otracker=search&otracker1=search&fm=organic&iid=20b460cd-af83-4da6-b830-eb7d9caf6833.SGLGGV2EVRWE9H9J.SEARCH&ppt=hp&ppn=homepage&ssid=vs09do8o4g0000001677491714460&qH=2cc465e3eef5bff0', 'https://www.flipkart.com/nuvew-wayfarer-sunglasses/p/itm517795ac54c9f?pid=SGLFPKXRGAGVGSTH&lid=LSTSGLFPKXRGAGVGSTHPLZHTK&marketplace=FLIPKART&q=sunglasses&store=26x&srno=s_1_5&otracker=search&otracker1=search&fm=organic&iid=20b460cd-af83-4da6-b830-eb7d9caf6833.SGLFPKXRGAGVGSTH.SEARCH&ppt=hp&ppn=homepage&ssid=vs09do8o4g0000001677491714460&qH=2cc465e3eef5bff0', 'https://www.flipkart.com/nuvew-wayfarer-sunglasses/p/itm0f1c405d80a38?pid=SGLFKGRFH4H3QQVB&lid=LSTSGLFKGRFH4H3QQVB2I7FPK&marketplace=FLIPKART&q=sunglasses&store=26x&srno=s_1_6&otracker=search&otracker1=search&fm=organic&iid=20b460cd-af83-4da6-b830-eb7d9caf6833.SGLFKGRFH4H3QQVB.SEARCH&ppt=hp&ppn=homepage&ssid=vs09do8o4g0000001677491714460&qH=2cc465e3eef5bff0', 'https://www.flipkart.com/fastrack-rectangular-sunglasses/p/itm3c6e13efc17e0?pid=SGLES2WMF6CH5GYF&lid=LSTSGLES2WMF6CH5GYFXDSXVD&marketplace=FLIPKART&q=sunglasses&store=26x&srno=s_1_7&otracker=search&otracker1=search&fm=organic&iid=20b460cd-af83-4da6-b830-eb7d9caf6833.SGLES2WMF6CH5GYF.SEARCH&ppt=hp&ppn=homepage&ssid=vs09do8o4g0000001677491714460&qH=2cc465e3eef5bff0', 'https://www.flipkart.com/srpm-wayfarer-sunglasses/p/itm72f1335147fe2?pid=SGLFGBCAWZHBUPCZ&lid=LSTSGLFGBCAWZHBUPCZTIHSGU&marketplace=FLIPKART&q=sunglasses&store=26x&srno=s_1_8&otracker=search&otracker1=search&fm=organic&iid=en_K7CW4olSZhnOY5tZFu36N8SscTEkzYSD4k7ndilcXjBFzORap6JR3APDfu7HJ%2BcTs1Rvlq3EsniAE9KAR3FEmw%3D%3D&ppt=hp&ppn=homepage&ssid=vs09do8o4g0000001677491714460&qH=2cc465e3eef5bff0', 'https://www.flipkart.com/piraso-aviator-sunglasses/p/itm405062704fcc0?pid=SGLFTYY5NWNKSC64&lid=LSTSGLFTYY5NWNKSC64YLGIVW&marketplace=FLIPKART&q=sunglasses&store=26x&srno=s_1_9&otracker=search&otracker1=search&fm=organic&iid=20b460cd-af83-4da6-b830-eb7d9caf6833.SGLFTYY5NWNKSC64.SEARCH&ppt=hp&ppn=homepage&ssid=vs09do8o4g0000001677491714460&qH=2cc465e3eef5bff0', 'https://www.flipkart.com/fastrack-wayfarer-sunglasses/p/itm2d3730b4b7d31?pid=SGLFG94CQZ4AYS2F&lid=LSTSGLFG94CQZ4AYS2FQMJAV7&marketplace=FLIPKART&q=sunglasses&store=26x&srno=s_1_10&otracker=search&otracker1=search&fm=organic&iid=20b460cd-af83-4da6-b830-eb7d9caf6833.SGLFG94CQZ4AYS2F.SEARCH&ppt=hp&ppn=homepage&ssid=vs09do8o4g0000001677491714460&qH=2cc465e3eef5bff0', 'https://www.flipkart.com/fastrack-wayfarer-sunglasses/p/itm7dda9b565d045?pid=SGLFG94C8PAHZ3SH&lid=LSTSGLFG94C8PAHZ3SHUWG6TE&marketplace=FLIPKART&q=sunglasses&store=26x&srno=s_1_11&otracker=search&otracker1=search&fm=organic&iid=20b460cd-af83-4da6-b830-eb7d9caf6833.SGLFG94C8PAHZ3SH.SEARCH&ppt=hp&ppn=homepage&ssid=vs09do8o4g0000001677491714460&qH=2cc465e3eef5bff0', 'https://www.flipkart.com/silver-kartz-aviator-sunglasses/p/itmf7g4z46kyvvex?pid=SGLF7G35FTKPBPNB&lid=LSTSGLF7G35FTKPBPNBKCRBRJ&marketplace=FLIPKART&q=sunglasses&store=26x&srno=s_1_12&otracker=search&otracker1=search&fm=organic&iid=en_K7CW4olSZhnOY5tZFu36N8SscTEkzYSD4k7ndilcXjBBV%2FmjGVPr9U0SlMDrh%2FKox5fAvy2lbj92vnZCCs1IVg%3D%3D&ppt=hp&ppn=homepage&ssid=vs09do8o4g0000001677491714460&qH=2cc465e3eef5bff0', 'https://www.flipkart.com/nuvew-sports-sunglasses/p/itm7bccdde72b083?pid=SGLFKGN24YMFKMTT&lid=LSTSGLFKGN24YMFKMTTSY5ZGB&marketplace=FLIPKART&q=sunglasses&store=26x&srno=s_1_13&otracker=search&otracker1=search&fm=organic&iid=20b460cd-af83-4da6-b830-eb7d9caf6833.SGLFKGN24YMFKMTT.SEARCH&ppt=hp&ppn=homepage&ssid=vs09do8o4g0000001677491714460&qH=2cc465e3eef5bff0', 'https://www.flipkart.com/nuvew-wayfarer-sunglasses/p/itm35bbc0e995a7c?pid=SGLFKGPGHP4XBKWT&lid=LSTSGLFKGPGHP4XBKWT4SBL6S&marketplace=FLIPKART&q=sunglasses&store=26x&srno=s_1_14&otracker=search&otracker1=search&fm=organic&iid=20b460cd-af83-4da6-b830-eb7d9caf6833.SGLFKGPGHP4XBKWT.SEARCH&ppt=hp&ppn=homepage&ssid=vs09do8o4g0000001677491714460&qH=2cc465e3eef5bff0', 'https://www.flipkart.com/piraso-clubmaster-sunglasses/p/itm205f3365d0f2d?pid=SGLGKFKFGJZFKGTQ&lid=LSTSGLGKFKFGJZFKGTQ6H6TWT&marketplace=FLIPKART&q=sunglasses&store=26x&srno=s_1_15&otracker=search&otracker1=search&fm=organic&iid=20b460cd-af83-4da6-b830-eb7d9caf6833.SGLGKFKFGJZFKGTQ.SEARCH&ppt=hp&ppn=homepage&ssid=vs09do8o4g0000001677491714460&qH=2cc465e3eef5bff0', 'https://www.flipkart.com/srpm-wayfarer-sunglasses/p/itmf7dffafeb6b90?pid=SGLGM3HCWHWZUHVA&lid=LSTSGLGM3HCWHWZUHVAMYKW78&marketplace=FLIPKART&q=sunglasses&store=26x&srno=s_1_16&otracker=search&otracker1=search&fm=organic&iid=en_K7CW4olSZhnOY5tZFu36N8SscTEkzYSD4k7ndilcXjAICXhhQYwLfTlsQeDaHTiVOahtBU0lK0oOe4wZct%2Bvng%3D%3D&ppt=hp&ppn=homepage&ssid=vs09do8o4g0000001677491714460&qH=2cc465e3eef5bff0', 'https://www.flipkart.com/fastrack-aviator-sunglasses/p/itm1a685f3977a68?pid=SGLF79DQGP7E4G2P&lid=LSTSGLF79DQGP7E4G2PTK7HYW&marketplace=FLIPKART&q=sunglasses&store=26x&srno=s_1_17&otracker=search&otracker1=search&fm=organic&iid=20b460cd-af83-4da6-b830-eb7d9caf6833.SGLF79DQGP7E4G2P.SEARCH&ppt=hp&ppn=homepage&ssid=vs09do8o4g0000001677491714460&qH=2cc465e3eef5bff0', 'https://www.flipkart.com/elligator-wayfarer-sunglasses/p/itm18a6994c2b4ba?pid=SGLFHQPHHHJD4KPY&lid=LSTSGLFHQPHHHJD4KPYBLGQGK&marketplace=FLIPKART&q=sunglasses&store=26x&srno=s_1_18&otracker=search&otracker1=search&fm=organic&iid=20b460cd-af83-4da6-b830-eb7d9caf6833.SGLFHQPHHHJD4KPY.SEARCH&ppt=hp&ppn=homepage&ssid=vs09do8o4g0000001677491714460&qH=2cc465e3eef5bff0', 'https://www.flipkart.com/piraso-aviator-sunglasses/p/itme10cb1c3329df?pid=SGLFZGE6GMSXZGRP&lid=LSTSGLFZGE6GMSXZGRPN2FYWJ&marketplace=FLIPKART&q=sunglasses&store=26x&srno=s_1_19&otracker=search&otracker1=search&fm=organic&iid=20b460cd-af83-4da6-b830-eb7d9caf6833.SGLFZGE6GMSXZGRP.SEARCH&ppt=hp&ppn=homepage&ssid=vs09do8o4g0000001677491714460&qH=2cc465e3eef5bff0', 'https://www.flipkart.com/vincent-chase-round-sunglasses/p/itmd1a5459d7922e?pid=SGLG8D97CM8TJXKQ&lid=LSTSGLG8D97CM8TJXKQG1G8QR&marketplace=FLIPKART&q=sunglasses&store=26x&srno=s_1_20&otracker=search&otracker1=search&fm=organic&iid=en_K7CW4olSZhnOY5tZFu36N8SscTEkzYSD4k7ndilcXjCkxz1V6Fy8EtL4dHcb1%2B4VmBcR9%2FfT9IxwWf0pufrp8w%3D%3D&ppt=hp&ppn=homepage&ssid=vs09do8o4g0000001677491714460&qH=2cc465e3eef5bff0', 'https://www.flipkart.com/sewell-sports-sunglasses/p/itme3e43d1da79e6?pid=SGLG4Q4GXDFZG3FH&lid=LSTSGLG4Q4GXDFZG3FHUKB4UZ&marketplace=FLIPKART&q=sunglasses&store=26x&srno=s_1_21&otracker=search&otracker1=search&fm=organic&iid=20b460cd-af83-4da6-b830-eb7d9caf6833.SGLG4Q4GXDFZG3FH.SEARCH&ppt=hp&ppn=homepage&ssid=vs09do8o4g0000001677491714460&qH=2cc465e3eef5bff0', 'https://www.flipkart.com/sunbee-wayfarer-sunglasses/p/itm0ec82c2e7927f?pid=SGLG3FTNVJFX45YX&lid=LSTSGLG3FTNVJFX45YX2YSY8S&marketplace=FLIPKART&q=sunglasses&store=26x&srno=s_1_22&otracker=search&otracker1=search&fm=organic&iid=20b460cd-af83-4da6-b830-eb7d9caf6833.SGLG3FTNVJFX45YX.SEARCH&ppt=hp&ppn=homepage&ssid=vs09do8o4g0000001677491714460&qH=2cc465e3eef5bff0', 'https://www.flipkart.com/elligator-aviator-wayfarer-sunglasses/p/itma41fafe9c4521?pid=SGLGEAKBZTSNM4AN&lid=LSTSGLGEAKBZTSNM4ANKLWSE5&marketplace=FLIPKART&q=sunglasses&store=26x&srno=s_1_23&otracker=search&otracker1=search&fm=organic&iid=20b460cd-af83-4da6-b830-eb7d9caf6833.SGLGEAKBZTSNM4AN.SEARCH&ppt=hp&ppn=homepage&ssid=vs09do8o4g0000001677491714460&qH=2cc465e3eef5bff0', 'https://www.flipkart.com/srpm-wayfarer-retro-square-rectangular-sunglasses/p/itm075e347b02537?pid=SGLFY7T7BANGJJD5&lid=LSTSGLFY7T7BANGJJD5EDTQQB&marketplace=FLIPKART&q=sunglasses&store=26x&srno=s_1_24&otracker=search&otracker1=search&fm=organic&iid=en_K7CW4olSZhnOY5tZFu36N8SscTEkzYSD4k7ndilcXjA140CZ7GUiWAWk%2BOCuxHzJ8V0izD8nkOv6gM5hX2c5qQ%3D%3D&ppt=hp&ppn=homepage&ssid=vs09do8o4g0000001677491714460&qH=2cc465e3eef5bff0', 'https://www.flipkart.com/fastrack-wayfarer-sunglasses/p/itme89404d9548ff?pid=SGLF79DQWCWEFUNR&lid=LSTSGLF79DQWCWEFUNRINKNYY&marketplace=FLIPKART&q=sunglasses&store=26x&srno=s_1_25&otracker=search&otracker1=search&fm=organic&iid=20b460cd-af83-4da6-b830-eb7d9caf6833.SGLF79DQWCWEFUNR.SEARCH&ppt=hp&ppn=homepage&ssid=vs09do8o4g0000001677491714460&qH=2cc465e3eef5bff0', 'https://www.flipkart.com/srpm-wayfarer-sunglasses/p/itmaf19ae5820c06?pid=SGLFHQPHY2GZ4HFP&lid=LSTSGLFHQPHY2GZ4HFP0AZWKY&marketplace=FLIPKART&q=sunglasses&store=26x&spotlightTagId=BestsellerId_26x&srno=s_1_26&otracker=search&otracker1=search&fm=organic&iid=20b460cd-af83-4da6-b830-eb7d9caf6833.SGLFHQPHY2GZ4HFP.SEARCH&ppt=hp&ppn=homepage&ssid=vs09do8o4g0000001677491714460&qH=2cc465e3eef5bff0', 'https://www.flipkart.com/nuvew-round-sunglasses/p/itm3b506b39394b4?pid=SGLFPKXC7VZYBXQJ&lid=LSTSGLFPKXC7VZYBXQJHM9TYR&marketplace=FLIPKART&q=sunglasses&store=26x&srno=s_1_27&otracker=search&otracker1=search&fm=organic&iid=20b460cd-af83-4da6-b830-eb7d9caf6833.SGLFPKXC7VZYBXQJ.SEARCH&ppt=hp&ppn=homepage&ssid=vs09do8o4g0000001677491714460&qH=2cc465e3eef5bff0', 'https://www.flipkart.com/silver-kartz-clubmaster-sunglasses/p/itmf3yh8embzpkcj?pid=SGLEXSPYRGGUGAMD&lid=LSTSGLEXSPYRGGUGAMDUL3IMI&marketplace=FLIPKART&q=sunglasses&store=26x&srno=s_1_28&otracker=search&otracker1=search&fm=organic&iid=en_K7CW4olSZhnOY5tZFu36N8SscTEkzYSD4k7ndilcXjBu9ZkOi5s9K%2F4dpOOPeeITsYpgCC1xYgzsZAiRbd8x1A%3D%3D&ppt=hp&ppn=homepage&ssid=vs09do8o4g0000001677491714460&qH=2cc465e3eef5bff0', 'https://www.flipkart.com/new-specs-rectangular-sunglasses/p/itm545a0f9e323c3?pid=SGLG2ESNVFBGD6NQ&lid=LSTSGLG2ESNVFBGD6NQDMTXPL&marketplace=FLIPKART&q=sunglasses&store=26x&srno=s_1_29&otracker=search&otracker1=search&fm=organic&iid=20b460cd-af83-4da6-b830-eb7d9caf6833.SGLG2ESNVFBGD6NQ.SEARCH&ppt=hp&ppn=homepage&ssid=vs09do8o4g0000001677491714460&qH=2cc465e3eef5bff0', 'https://www.flipkart.com/fastrack-wayfarer-sunglasses/p/itm4297d4c05fa6c?pid=SGLF79DQWYPMFYVY&lid=LSTSGLF79DQWYPMFYVYXBJEXX&marketplace=FLIPKART&q=sunglasses&store=26x&srno=s_1_30&otracker=search&otracker1=search&fm=organic&iid=20b460cd-af83-4da6-b830-eb7d9caf6833.SGLF79DQWYPMFYVY.SEARCH&ppt=hp&ppn=homepage&ssid=vs09do8o4g0000001677491714460&qH=2cc465e3eef5bff0', 'https://www.flipkart.com/nuvew-aviator-sunglasses/p/itmf9qm5fec5xdwv?pid=SGLF9QJ4UVX8U9GD&lid=LSTSGLF9QJ4UVX8U9GDHH9MPT&marketplace=FLIPKART&q=sunglasses&store=26x&srno=s_1_31&otracker=search&otracker1=search&fm=organic&iid=20b460cd-af83-4da6-b830-eb7d9caf6833.SGLF9QJ4UVX8U9GD.SEARCH&ppt=hp&ppn=homepage&ssid=vs09do8o4g0000001677491714460&qH=2cc465e3eef5bff0', 'https://www.flipkart.com/elligator-cat-eye-retro-square-oval-round-sunglasses/p/itm98c570080e769?pid=SGLGHBTVWGRC2WJT&lid=LSTSGLGHBTVWGRC2WJTOWRQKX&marketplace=FLIPKART&q=sunglasses&store=26x&srno=s_1_32&otracker=search&otracker1=search&fm=organic&iid=en_K7CW4olSZhnOY5tZFu36N8SscTEkzYSD4k7ndilcXjA1SeRhy4Iz59sj%2Bz5tZ5mI59MYqtmJLWTUxUnP5%2BVWoA%3D%3D&ppt=hp&ppn=homepage&ssid=vs09do8o4g0000001677491714460&qH=2cc465e3eef5bff0', 'https://www.flipkart.com/nuvew-aviator-sunglasses/p/itmf9qm6qn2tccfj?pid=SGLF9QJ53XN22RHM&lid=LSTSGLF9QJ53XN22RHM2ASWVD&marketplace=FLIPKART&q=sunglasses&store=26x&srno=s_1_33&otracker=search&otracker1=search&fm=organic&iid=20b460cd-af83-4da6-b830-eb7d9caf6833.SGLF9QJ53XN22RHM.SEARCH&ppt=hp&ppn=homepage&ssid=vs09do8o4g0000001677491714460&qH=2cc465e3eef5bff0', 'https://www.flipkart.com/nuvew-wayfarer-sunglasses/p/itme2f15e185f18f?pid=SGLFKGPYQGTEYYDG&lid=LSTSGLFKGPYQGTEYYDGFAQW5E&marketplace=FLIPKART&q=sunglasses&store=26x&srno=s_1_34&otracker=search&otracker1=search&fm=organic&iid=20b460cd-af83-4da6-b830-eb7d9caf6833.SGLFKGPYQGTEYYDG.SEARCH&ppt=hp&ppn=homepage&ssid=vs09do8o4g0000001677491714460&qH=2cc465e3eef5bff0', 'https://www.flipkart.com/piraso-aviator-sunglasses/p/itm70504d13b7992?pid=SGLFV8YYCEA8RWAC&lid=LSTSGLFV8YYCEA8RWACIACICJ&marketplace=FLIPKART&q=sunglasses&store=26x&srno=s_1_35&otracker=search&otracker1=search&fm=organic&iid=20b460cd-af83-4da6-b830-eb7d9caf6833.SGLFV8YYCEA8RWAC.SEARCH&ppt=hp&ppn=homepage&ssid=vs09do8o4g0000001677491714460&qH=2cc465e3eef5bff0', 'https://www.flipkart.com/rozzetta-craft-round-sunglasses/p/itm992d1d1202834?pid=SGLFMG6DHUPTH2VB&lid=LSTSGLFMG6DHUPTH2VBWQRQLV&marketplace=FLIPKART&q=sunglasses&store=26x&srno=s_1_36&otracker=search&otracker1=search&fm=organic&iid=en_K7CW4olSZhnOY5tZFu36N8SscTEkzYSD4k7ndilcXjD6UKsaJkLI52JL1HUSe2EyWMUKzu4LHs2JqpMAI6YtwA%3D%3D&ppt=hp&ppn=homepage&ssid=vs09do8o4g0000001677491714460&qH=2cc465e3eef5bff0', 'https://www.flipkart.com/nuvew-aviator-sunglasses/p/itmf5zf6ung7adzp?pid=SGLF5ZD8GJJZXQPQ&lid=LSTSGLF5ZD8GJJZXQPQGXGA3U&marketplace=FLIPKART&q=sunglasses&store=26x&srno=s_1_37&otracker=search&otracker1=search&fm=organic&iid=20b460cd-af83-4da6-b830-eb7d9caf6833.SGLF5ZD8GJJZXQPQ.SEARCH&ppt=hp&ppn=homepage&ssid=vs09do8o4g0000001677491714460&qH=2cc465e3eef5bff0', 'https://www.flipkart.com/shaah-collections-rectangular-sunglasses/p/itm201340b1c3e13?pid=SGLFXWGV5TGFFSPX&lid=LSTSGLFXWGV5TGFFSPXSORUG9&marketplace=FLIPKART&q=sunglasses&store=26x&srno=s_1_38&otracker=search&otracker1=search&fm=organic&iid=20b460cd-af83-4da6-b830-eb7d9caf6833.SGLFXWGV5TGFFSPX.SEARCH&ppt=hp&ppn=homepage&ssid=vs09do8o4g0000001677491714460&qH=2cc465e3eef5bff0', 'https://www.flipkart.com/fastrack-wayfarer-sunglasses/p/itm90ae8b9ce633b?pid=SGLFHBY3ZHESCSHR&lid=LSTSGLFHBY3ZHESCSHRWHRPJ2&marketplace=FLIPKART&q=sunglasses&store=26x&srno=s_1_39&otracker=search&otracker1=search&fm=organic&iid=20b460cd-af83-4da6-b830-eb7d9caf6833.SGLFHBY3ZHESCSHR.SEARCH&ppt=hp&ppn=homepage&ssid=vs09do8o4g0000001677491714460&qH=2cc465e3eef5bff0', 'https://www.flipkart.com/silver-kartz-wayfarer-sunglasses/p/itmf3ykz37jypbdd?pid=SGLEXSP4CY6G2ZTY&lid=LSTSGLEXSP4CY6G2ZTYGHVAAN&marketplace=FLIPKART&q=sunglasses&store=26x&srno=s_1_40&otracker=search&otracker1=search&fm=organic&iid=en_K7CW4olSZhnOY5tZFu36N8SscTEkzYSD4k7ndilcXjBFtrCAvK%2Bk3mLiWmjKyaUrYVIXFHN1tysouSKZFWHfLQ%3D%3D&ppt=hp&ppn=homepage&ssid=vs09do8o4g0000001677491714460&qH=2cc465e3eef5bff0']\n"
     ]
    }
   ],
   "source": [
    "print(URL)"
   ]
  },
  {
   "cell_type": "code",
   "execution_count": 16,
   "id": "3966819a",
   "metadata": {},
   "outputs": [
    {
     "data": {
      "text/plain": [
       "40"
      ]
     },
     "execution_count": 16,
     "metadata": {},
     "output_type": "execute_result"
    }
   ],
   "source": [
    "len(URL)"
   ]
  },
  {
   "cell_type": "code",
   "execution_count": 32,
   "id": "749c41e4",
   "metadata": {},
   "outputs": [],
   "source": [
    "Name1=[]\n",
    "Price1=[]\n",
    "offer1=[]\n",
    "URL1=[]\n",
    "desc=[]"
   ]
  },
  {
   "cell_type": "code",
   "execution_count": 33,
   "id": "35cfa6e8",
   "metadata": {},
   "outputs": [],
   "source": [
    "# Scrap the data of next pages\n",
    "start=0\n",
    "end=3\n",
    "for page in range(start,end):\n",
    "    name=driver.find_elements(By.XPATH,'//div[@class=\"_2WkVRV\"]')\n",
    "    for i in name:\n",
    "        Name1.append(i.text)\n",
    "    price=driver.find_elements(By.XPATH,'//div[@class=\"_30jeq3\"]')\n",
    "    for i in price:\n",
    "        Price1.append(i.text.split(\"₹\")[1])   \n",
    "    off=driver.find_elements(By.XPATH,'//div[@class=\"_3Ay6Sb\"]')\n",
    "    for i in off:\n",
    "        offer1.append(i.text.split(\" \")[0])\n",
    "    url=driver.find_elements(By.XPATH,'//a[@class=\"_3bPFwb\"]')\n",
    "    for i in url:\n",
    "        URL1.append(i.get_attribute('href'))\n",
    "    de=driver.find_elements(By.XPATH,'//a[@class=\"IRpwTa\"]')\n",
    "    for i in de:\n",
    "        desc.append(i.get_attribute('title'))\n",
    "\n",
    "    next_button=driver.find_element(By.XPATH,'//a[@class=\"_1LKTO3\"]')\n",
    "    next_button.click()\n",
    "    time.sleep(3)"
   ]
  },
  {
   "cell_type": "code",
   "execution_count": 34,
   "id": "5d1d07d2",
   "metadata": {},
   "outputs": [
    {
     "name": "stdout",
     "output_type": "stream",
     "text": [
      "120 120 120 120 120\n"
     ]
    }
   ],
   "source": [
    "print(len(Name1),len(Price1),len(offer1),len(URL1),len(desc))"
   ]
  },
  {
   "cell_type": "code",
   "execution_count": 35,
   "id": "0f05901a",
   "metadata": {},
   "outputs": [],
   "source": [
    "import pandas as pd\n",
    "data=pd.DataFrame({\"Brand\":Name1[0:100],\"Descrption\":desc[0:100],\"Price\":Price1[0:100]})"
   ]
  },
  {
   "cell_type": "code",
   "execution_count": 36,
   "id": "2910d224",
   "metadata": {},
   "outputs": [
    {
     "data": {
      "text/html": [
       "<div>\n",
       "<style scoped>\n",
       "    .dataframe tbody tr th:only-of-type {\n",
       "        vertical-align: middle;\n",
       "    }\n",
       "\n",
       "    .dataframe tbody tr th {\n",
       "        vertical-align: top;\n",
       "    }\n",
       "\n",
       "    .dataframe thead th {\n",
       "        text-align: right;\n",
       "    }\n",
       "</style>\n",
       "<table border=\"1\" class=\"dataframe\">\n",
       "  <thead>\n",
       "    <tr style=\"text-align: right;\">\n",
       "      <th></th>\n",
       "      <th>Brand</th>\n",
       "      <th>Descrption</th>\n",
       "      <th>Price</th>\n",
       "    </tr>\n",
       "  </thead>\n",
       "  <tbody>\n",
       "    <tr>\n",
       "      <th>0</th>\n",
       "      <td>Elligator</td>\n",
       "      <td>UV Protection Cat-eye, Retro Square, Oval, Rou...</td>\n",
       "      <td>129</td>\n",
       "    </tr>\n",
       "    <tr>\n",
       "      <th>1</th>\n",
       "      <td>OAKLEY</td>\n",
       "      <td>Pitchman R Round Sunglass</td>\n",
       "      <td>6,989</td>\n",
       "    </tr>\n",
       "    <tr>\n",
       "      <th>2</th>\n",
       "      <td>NuVew</td>\n",
       "      <td>UV Protection Wayfarer Sunglasses (57)</td>\n",
       "      <td>129</td>\n",
       "    </tr>\n",
       "    <tr>\n",
       "      <th>3</th>\n",
       "      <td>Elligator</td>\n",
       "      <td>UV Protection Cat-eye, Retro Square, Oval, Rou...</td>\n",
       "      <td>149</td>\n",
       "    </tr>\n",
       "    <tr>\n",
       "      <th>4</th>\n",
       "      <td>NuVew</td>\n",
       "      <td>UV Protection, Mirrored Wayfarer Sunglasses (57)</td>\n",
       "      <td>99</td>\n",
       "    </tr>\n",
       "    <tr>\n",
       "      <th>...</th>\n",
       "      <td>...</td>\n",
       "      <td>...</td>\n",
       "      <td>...</td>\n",
       "    </tr>\n",
       "    <tr>\n",
       "      <th>95</th>\n",
       "      <td>ROZZETTA CRAFT</td>\n",
       "      <td>UV Protection, Gradient Retro Square Sunglasse...</td>\n",
       "      <td>599</td>\n",
       "    </tr>\n",
       "    <tr>\n",
       "      <th>96</th>\n",
       "      <td>Elligator</td>\n",
       "      <td>UV Protection Wayfarer Sunglasses (53)</td>\n",
       "      <td>198</td>\n",
       "    </tr>\n",
       "    <tr>\n",
       "      <th>97</th>\n",
       "      <td>Fastrack</td>\n",
       "      <td>Gradient, UV Protection Wayfarer Sunglasses (F...</td>\n",
       "      <td>579</td>\n",
       "    </tr>\n",
       "    <tr>\n",
       "      <th>98</th>\n",
       "      <td>PIRASO</td>\n",
       "      <td>UV Protection Aviator Sunglasses (Free Size)</td>\n",
       "      <td>268</td>\n",
       "    </tr>\n",
       "    <tr>\n",
       "      <th>99</th>\n",
       "      <td>VINCENT CHASE</td>\n",
       "      <td>by Lenskart Polarized, UV Protection Aviator S...</td>\n",
       "      <td>879</td>\n",
       "    </tr>\n",
       "  </tbody>\n",
       "</table>\n",
       "<p>100 rows × 3 columns</p>\n",
       "</div>"
      ],
      "text/plain": [
       "             Brand                                         Descrption  Price\n",
       "0        Elligator  UV Protection Cat-eye, Retro Square, Oval, Rou...    129\n",
       "1           OAKLEY                          Pitchman R Round Sunglass  6,989\n",
       "2            NuVew             UV Protection Wayfarer Sunglasses (57)    129\n",
       "3        Elligator  UV Protection Cat-eye, Retro Square, Oval, Rou...    149\n",
       "4            NuVew   UV Protection, Mirrored Wayfarer Sunglasses (57)     99\n",
       "..             ...                                                ...    ...\n",
       "95  ROZZETTA CRAFT  UV Protection, Gradient Retro Square Sunglasse...    599\n",
       "96       Elligator             UV Protection Wayfarer Sunglasses (53)    198\n",
       "97        Fastrack  Gradient, UV Protection Wayfarer Sunglasses (F...    579\n",
       "98          PIRASO       UV Protection Aviator Sunglasses (Free Size)    268\n",
       "99   VINCENT CHASE  by Lenskart Polarized, UV Protection Aviator S...    879\n",
       "\n",
       "[100 rows x 3 columns]"
      ]
     },
     "execution_count": 36,
     "metadata": {},
     "output_type": "execute_result"
    }
   ],
   "source": [
    "data"
   ]
  },
  {
   "cell_type": "code",
   "execution_count": null,
   "id": "15b97f3c",
   "metadata": {},
   "outputs": [],
   "source": []
  }
 ],
 "metadata": {
  "kernelspec": {
   "display_name": "Python 3 (ipykernel)",
   "language": "python",
   "name": "python3"
  },
  "language_info": {
   "codemirror_mode": {
    "name": "ipython",
    "version": 3
   },
   "file_extension": ".py",
   "mimetype": "text/x-python",
   "name": "python",
   "nbconvert_exporter": "python",
   "pygments_lexer": "ipython3",
   "version": "3.9.13"
  }
 },
 "nbformat": 4,
 "nbformat_minor": 5
}
