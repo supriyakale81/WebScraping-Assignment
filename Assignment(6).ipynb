{
 "cells": [
  {
   "cell_type": "markdown",
   "id": "4962b85c",
   "metadata": {},
   "source": [
    "### 6) Write a python program to scrape cricket rankings from icc-cricket.com. You have to scrape and make data frame\n",
    "#### a) Top 10 ODI teams in women’s cricket along with the records for matches, points and rating.\n"
   ]
  },
  {
   "cell_type": "code",
   "execution_count": 1,
   "id": "d12d78aa",
   "metadata": {},
   "outputs": [],
   "source": [
    "from selenium import webdriver\n",
    "from selenium.webdriver.common.by import By"
   ]
  },
  {
   "cell_type": "code",
   "execution_count": 2,
   "id": "ffae7c87",
   "metadata": {},
   "outputs": [
    {
     "name": "stderr",
     "output_type": "stream",
     "text": [
      "C:\\Users\\pc\\AppData\\Local\\Temp\\ipykernel_712\\80213923.py:2: DeprecationWarning: executable_path has been deprecated, please pass in a Service object\n",
      "  driver = webdriver.Chrome(r\"C:\\Users\\pc\\Downloads\\chromedriver_win32\\chromedriver.exe\")\n"
     ]
    }
   ],
   "source": [
    "# connect to the driver\n",
    "driver = webdriver.Chrome(r\"C:\\Users\\pc\\Downloads\\chromedriver_win32\\chromedriver.exe\")"
   ]
  },
  {
   "cell_type": "code",
   "execution_count": 3,
   "id": "c3fb7101",
   "metadata": {},
   "outputs": [],
   "source": [
    "# scraping the naukri page automated chrome browser\n",
    "driver.get(\"https://www.icc-cricket.com/rankings/womens/player-rankings/odi\")"
   ]
  },
  {
   "cell_type": "code",
   "execution_count": 4,
   "id": "0848fa57",
   "metadata": {},
   "outputs": [],
   "source": [
    "search=driver.find_element(By.XPATH,'//div[@class=\"drop-down__clickzone js-drop-down-trigger\"]')\n",
    "search.click()"
   ]
  },
  {
   "cell_type": "code",
   "execution_count": 5,
   "id": "abaeb740",
   "metadata": {},
   "outputs": [],
   "source": [
    "rank=driver.find_element(By.XPATH,'/html/body/main/div/div[1]/div/div/div[4]/div[2]/ul/li[2]/a')\n",
    "rank.click()"
   ]
  },
  {
   "cell_type": "code",
   "execution_count": 6,
   "id": "0c9f5bde",
   "metadata": {},
   "outputs": [],
   "source": [
    "ODI=driver.find_element(By.XPATH,'/html/body/main/div/div[2]/section/div/div/div/ul/li[2]/a')\n",
    "ODI.click()"
   ]
  },
  {
   "cell_type": "code",
   "execution_count": 7,
   "id": "881a316e",
   "metadata": {},
   "outputs": [
    {
     "name": "stdout",
     "output_type": "stream",
     "text": [
      "['India', 'Australia', 'New Zealand', 'England', 'Pakistan', 'South Africa', 'Bangladesh', 'Sri Lanka', 'Afghanistan', 'West Indies']\n"
     ]
    }
   ],
   "source": [
    "teams=[]\n",
    "team=driver.find_elements(By.XPATH,'//span[@class=\"u-hide-phablet\"]')\n",
    "for i in team[0:10]:\n",
    "    teams.append(i.text)\n",
    "print(teams)"
   ]
  },
  {
   "cell_type": "code",
   "execution_count": 8,
   "id": "49bd4297",
   "metadata": {},
   "outputs": [
    {
     "name": "stdout",
     "output_type": "stream",
     "text": [
      "['44', '32', '29', '33', '25', '27', '33', '34', '20', '41']\n"
     ]
    }
   ],
   "source": [
    "Matches=[]\n",
    "matches=driver.find_elements(By.XPATH,'/html/body/main/div/div[2]/div/div/section/div[3]/table/tbody/tr/td[3]')\n",
    "for i in matches[0:10]:\n",
    "    Matches.append(i.text)\n",
    "print(Matches)"
   ]
  },
  {
   "cell_type": "code",
   "execution_count": 9,
   "id": "28524509",
   "metadata": {},
   "outputs": [
    {
     "name": "stdout",
     "output_type": "stream",
     "text": [
      "['5,010', '3,572', '3,229', '3,656', '2,649', '2,775', '3,129', '2,976', '1,419', '2,902']\n"
     ]
    }
   ],
   "source": [
    "points=[]\n",
    "point=driver.find_elements(By.XPATH,'/html/body/main/div/div[2]/div/div/section/div[3]/table/tbody/tr/td[4]')\n",
    "for i in point[0:10]:\n",
    "    points.append(i.text)\n",
    "print(points)"
   ]
  },
  {
   "cell_type": "code",
   "execution_count": 10,
   "id": "ce1a8980",
   "metadata": {},
   "outputs": [
    {
     "name": "stdout",
     "output_type": "stream",
     "text": [
      "['114', '112', '111', '111', '106', '103', '95', '88', '71', '71']\n"
     ]
    }
   ],
   "source": [
    "ratings=[]\n",
    "rate=driver.find_elements(By.XPATH,'/html/body/main/div/div[2]/div/div/section/div[3]/table/tbody/tr/td[5]')\n",
    "for i in rate[0:10]:\n",
    "    ratings.append(i.text)\n",
    "print(ratings)"
   ]
  },
  {
   "cell_type": "code",
   "execution_count": 11,
   "id": "227403c0",
   "metadata": {},
   "outputs": [
    {
     "name": "stdout",
     "output_type": "stream",
     "text": [
      "10 10 10 10\n"
     ]
    }
   ],
   "source": [
    "print(len(teams),len(Matches),len(points),len(ratings))"
   ]
  },
  {
   "cell_type": "code",
   "execution_count": 12,
   "id": "2cbd1c8b",
   "metadata": {},
   "outputs": [],
   "source": [
    "odi=driver.find_element(By.XPATH,'/html/body/main/div/div[2]/section/div/div/div/ul/li[2]/a')\n",
    "odi.click()\n"
   ]
  },
  {
   "cell_type": "code",
   "execution_count": 13,
   "id": "72b3bfd0",
   "metadata": {},
   "outputs": [
    {
     "data": {
      "text/html": [
       "<div>\n",
       "<style scoped>\n",
       "    .dataframe tbody tr th:only-of-type {\n",
       "        vertical-align: middle;\n",
       "    }\n",
       "\n",
       "    .dataframe tbody tr th {\n",
       "        vertical-align: top;\n",
       "    }\n",
       "\n",
       "    .dataframe thead th {\n",
       "        text-align: right;\n",
       "    }\n",
       "</style>\n",
       "<table border=\"1\" class=\"dataframe\">\n",
       "  <thead>\n",
       "    <tr style=\"text-align: right;\">\n",
       "      <th></th>\n",
       "      <th>Teams</th>\n",
       "      <th>Matches</th>\n",
       "      <th>Points</th>\n",
       "      <th>Ratings</th>\n",
       "    </tr>\n",
       "  </thead>\n",
       "  <tbody>\n",
       "    <tr>\n",
       "      <th>0</th>\n",
       "      <td>India</td>\n",
       "      <td>44</td>\n",
       "      <td>5,010</td>\n",
       "      <td>114</td>\n",
       "    </tr>\n",
       "    <tr>\n",
       "      <th>1</th>\n",
       "      <td>Australia</td>\n",
       "      <td>32</td>\n",
       "      <td>3,572</td>\n",
       "      <td>112</td>\n",
       "    </tr>\n",
       "    <tr>\n",
       "      <th>2</th>\n",
       "      <td>New Zealand</td>\n",
       "      <td>29</td>\n",
       "      <td>3,229</td>\n",
       "      <td>111</td>\n",
       "    </tr>\n",
       "    <tr>\n",
       "      <th>3</th>\n",
       "      <td>England</td>\n",
       "      <td>33</td>\n",
       "      <td>3,656</td>\n",
       "      <td>111</td>\n",
       "    </tr>\n",
       "    <tr>\n",
       "      <th>4</th>\n",
       "      <td>Pakistan</td>\n",
       "      <td>25</td>\n",
       "      <td>2,649</td>\n",
       "      <td>106</td>\n",
       "    </tr>\n",
       "    <tr>\n",
       "      <th>5</th>\n",
       "      <td>South Africa</td>\n",
       "      <td>27</td>\n",
       "      <td>2,775</td>\n",
       "      <td>103</td>\n",
       "    </tr>\n",
       "    <tr>\n",
       "      <th>6</th>\n",
       "      <td>Bangladesh</td>\n",
       "      <td>33</td>\n",
       "      <td>3,129</td>\n",
       "      <td>95</td>\n",
       "    </tr>\n",
       "    <tr>\n",
       "      <th>7</th>\n",
       "      <td>Sri Lanka</td>\n",
       "      <td>34</td>\n",
       "      <td>2,976</td>\n",
       "      <td>88</td>\n",
       "    </tr>\n",
       "    <tr>\n",
       "      <th>8</th>\n",
       "      <td>Afghanistan</td>\n",
       "      <td>20</td>\n",
       "      <td>1,419</td>\n",
       "      <td>71</td>\n",
       "    </tr>\n",
       "    <tr>\n",
       "      <th>9</th>\n",
       "      <td>West Indies</td>\n",
       "      <td>41</td>\n",
       "      <td>2,902</td>\n",
       "      <td>71</td>\n",
       "    </tr>\n",
       "  </tbody>\n",
       "</table>\n",
       "</div>"
      ],
      "text/plain": [
       "          Teams Matches Points Ratings\n",
       "0         India      44  5,010     114\n",
       "1     Australia      32  3,572     112\n",
       "2   New Zealand      29  3,229     111\n",
       "3       England      33  3,656     111\n",
       "4      Pakistan      25  2,649     106\n",
       "5  South Africa      27  2,775     103\n",
       "6    Bangladesh      33  3,129      95\n",
       "7     Sri Lanka      34  2,976      88\n",
       "8   Afghanistan      20  1,419      71\n",
       "9   West Indies      41  2,902      71"
      ]
     },
     "execution_count": 13,
     "metadata": {},
     "output_type": "execute_result"
    }
   ],
   "source": [
    "import pandas as pd\n",
    "data=pd.DataFrame({\"Teams\":teams,\"Matches\":Matches,'Points':points,\"Ratings\":ratings})\n",
    "data"
   ]
  },
  {
   "cell_type": "markdown",
   "id": "955d2140",
   "metadata": {},
   "source": [
    "#### b) Top 10 women’s ODI Batting players along with the records of their team and rating.\n"
   ]
  },
  {
   "cell_type": "code",
   "execution_count": 1,
   "id": "b4c3bda8",
   "metadata": {},
   "outputs": [],
   "source": [
    "from selenium import webdriver\n",
    "from selenium.webdriver.common.by import By"
   ]
  },
  {
   "cell_type": "code",
   "execution_count": 2,
   "id": "019f6b0c",
   "metadata": {},
   "outputs": [
    {
     "name": "stderr",
     "output_type": "stream",
     "text": [
      "C:\\Users\\pc\\AppData\\Local\\Temp\\ipykernel_10112\\80213923.py:2: DeprecationWarning: executable_path has been deprecated, please pass in a Service object\n",
      "  driver = webdriver.Chrome(r\"C:\\Users\\pc\\Downloads\\chromedriver_win32\\chromedriver.exe\")\n"
     ]
    }
   ],
   "source": [
    "# connect to the driver\n",
    "driver = webdriver.Chrome(r\"C:\\Users\\pc\\Downloads\\chromedriver_win32\\chromedriver.exe\")"
   ]
  },
  {
   "cell_type": "code",
   "execution_count": 3,
   "id": "95117889",
   "metadata": {},
   "outputs": [],
   "source": [
    "# scraping the naukri page automated chrome browser\n",
    "driver.get(\"https://www.icc-cricket.com/rankings/womens/player-rankings/odi\")"
   ]
  },
  {
   "cell_type": "code",
   "execution_count": 4,
   "id": "d04a0f72",
   "metadata": {},
   "outputs": [],
   "source": [
    "Players=[]\n",
    "ratings=[]\n",
    "teams=[]"
   ]
  },
  {
   "cell_type": "code",
   "execution_count": 5,
   "id": "c7c8e31d",
   "metadata": {},
   "outputs": [],
   "source": [
    "player1=driver.find_element(By.XPATH,'/html/body/main/div/div[2]/div/div/div/div/div[1]/div/div[1]/a/div/div[2]/div[1]')\n",
    "Players.append(player1.text)"
   ]
  },
  {
   "cell_type": "code",
   "execution_count": 6,
   "id": "0ceff364",
   "metadata": {},
   "outputs": [],
   "source": [
    "team1=team=driver.find_element(By.XPATH,'//div[@class=\"rankings-block__banner--nationality\"]')\n",
    "teams.append(team1.text.split(\"\\n\")[0])"
   ]
  },
  {
   "cell_type": "code",
   "execution_count": 7,
   "id": "796e3f54",
   "metadata": {},
   "outputs": [
    {
     "name": "stdout",
     "output_type": "stream",
     "text": [
      "['AUS']\n"
     ]
    }
   ],
   "source": [
    "print(teams)"
   ]
  },
  {
   "cell_type": "code",
   "execution_count": 8,
   "id": "909699cf",
   "metadata": {},
   "outputs": [],
   "source": [
    "rating1=driver.find_element(By.XPATH,'//div[@class=\"rankings-block__banner--rating\"]')\n",
    "ratings.append(rating1.text)"
   ]
  },
  {
   "cell_type": "code",
   "execution_count": 9,
   "id": "117e1910",
   "metadata": {},
   "outputs": [
    {
     "name": "stdout",
     "output_type": "stream",
     "text": [
      "['AUS', 'AUS', 'SA', 'ENG', 'AUS', 'IND', 'IND', 'AUS', 'SL', 'NZ']\n"
     ]
    }
   ],
   "source": [
    "team=driver.find_elements(By.XPATH,'//span[@class=\"table-body__logo-text\"]')\n",
    "for i in team[0:9]:\n",
    "    teams.append(i.text)\n",
    "print(teams)"
   ]
  },
  {
   "cell_type": "code",
   "execution_count": 11,
   "id": "ed488761",
   "metadata": {},
   "outputs": [
    {
     "name": "stdout",
     "output_type": "stream",
     "text": [
      "['Alyssa Healy', 'Beth Mooney', 'Laura Wolvaardt', 'Natalie Sciver', 'Meg Lanning', 'Harmanpreet Kaur', 'Smriti Mandhana', 'Rachael Haynes', 'Chamari Athapaththu', 'Amy Satterthwaite']\n"
     ]
    }
   ],
   "source": [
    "player=driver.find_elements(By.XPATH,'//td[@class=\"table-body__cell rankings-table__name name\"]')\n",
    "for i in player[0:9]:\n",
    "    Players.append(i.text)\n",
    "print(Players)\n"
   ]
  },
  {
   "cell_type": "code",
   "execution_count": 12,
   "id": "19020d88",
   "metadata": {},
   "outputs": [
    {
     "name": "stdout",
     "output_type": "stream",
     "text": [
      "['762', '754', '732', '731', '717', '716', '714', '680', '655', '641']\n"
     ]
    }
   ],
   "source": [
    "rate=driver.find_elements(By.XPATH,'//td[@class=\"table-body__cell rating\"]')\n",
    "for i in rate[0:9]:\n",
    "    ratings.append(i.text)\n",
    "print(ratings)"
   ]
  },
  {
   "cell_type": "code",
   "execution_count": 13,
   "id": "8e5c2d6f",
   "metadata": {},
   "outputs": [
    {
     "name": "stdout",
     "output_type": "stream",
     "text": [
      "10 10 10\n"
     ]
    }
   ],
   "source": [
    "print(len(teams),len(Players),len(ratings))"
   ]
  },
  {
   "cell_type": "code",
   "execution_count": 14,
   "id": "bf67ebe7",
   "metadata": {},
   "outputs": [
    {
     "data": {
      "text/html": [
       "<div>\n",
       "<style scoped>\n",
       "    .dataframe tbody tr th:only-of-type {\n",
       "        vertical-align: middle;\n",
       "    }\n",
       "\n",
       "    .dataframe tbody tr th {\n",
       "        vertical-align: top;\n",
       "    }\n",
       "\n",
       "    .dataframe thead th {\n",
       "        text-align: right;\n",
       "    }\n",
       "</style>\n",
       "<table border=\"1\" class=\"dataframe\">\n",
       "  <thead>\n",
       "    <tr style=\"text-align: right;\">\n",
       "      <th></th>\n",
       "      <th>Players</th>\n",
       "      <th>Teams</th>\n",
       "      <th>Ratings</th>\n",
       "    </tr>\n",
       "  </thead>\n",
       "  <tbody>\n",
       "    <tr>\n",
       "      <th>0</th>\n",
       "      <td>Alyssa Healy</td>\n",
       "      <td>AUS</td>\n",
       "      <td>762</td>\n",
       "    </tr>\n",
       "    <tr>\n",
       "      <th>1</th>\n",
       "      <td>Beth Mooney</td>\n",
       "      <td>AUS</td>\n",
       "      <td>754</td>\n",
       "    </tr>\n",
       "    <tr>\n",
       "      <th>2</th>\n",
       "      <td>Laura Wolvaardt</td>\n",
       "      <td>SA</td>\n",
       "      <td>732</td>\n",
       "    </tr>\n",
       "    <tr>\n",
       "      <th>3</th>\n",
       "      <td>Natalie Sciver</td>\n",
       "      <td>ENG</td>\n",
       "      <td>731</td>\n",
       "    </tr>\n",
       "    <tr>\n",
       "      <th>4</th>\n",
       "      <td>Meg Lanning</td>\n",
       "      <td>AUS</td>\n",
       "      <td>717</td>\n",
       "    </tr>\n",
       "    <tr>\n",
       "      <th>5</th>\n",
       "      <td>Harmanpreet Kaur</td>\n",
       "      <td>IND</td>\n",
       "      <td>716</td>\n",
       "    </tr>\n",
       "    <tr>\n",
       "      <th>6</th>\n",
       "      <td>Smriti Mandhana</td>\n",
       "      <td>IND</td>\n",
       "      <td>714</td>\n",
       "    </tr>\n",
       "    <tr>\n",
       "      <th>7</th>\n",
       "      <td>Rachael Haynes</td>\n",
       "      <td>AUS</td>\n",
       "      <td>680</td>\n",
       "    </tr>\n",
       "    <tr>\n",
       "      <th>8</th>\n",
       "      <td>Chamari Athapaththu</td>\n",
       "      <td>SL</td>\n",
       "      <td>655</td>\n",
       "    </tr>\n",
       "    <tr>\n",
       "      <th>9</th>\n",
       "      <td>Amy Satterthwaite</td>\n",
       "      <td>NZ</td>\n",
       "      <td>641</td>\n",
       "    </tr>\n",
       "  </tbody>\n",
       "</table>\n",
       "</div>"
      ],
      "text/plain": [
       "               Players Teams Ratings\n",
       "0         Alyssa Healy   AUS     762\n",
       "1          Beth Mooney   AUS     754\n",
       "2      Laura Wolvaardt    SA     732\n",
       "3       Natalie Sciver   ENG     731\n",
       "4          Meg Lanning   AUS     717\n",
       "5     Harmanpreet Kaur   IND     716\n",
       "6      Smriti Mandhana   IND     714\n",
       "7       Rachael Haynes   AUS     680\n",
       "8  Chamari Athapaththu    SL     655\n",
       "9    Amy Satterthwaite    NZ     641"
      ]
     },
     "execution_count": 14,
     "metadata": {},
     "output_type": "execute_result"
    }
   ],
   "source": [
    "import pandas as pd\n",
    "df=pd.DataFrame({\"Players\":Players,\"Teams\":teams,\"Ratings\":ratings})\n",
    "df"
   ]
  },
  {
   "cell_type": "markdown",
   "id": "f71443e8",
   "metadata": {},
   "source": [
    "#### c) Top 10 women’s ODI all-rounder along with the records of their team and rating"
   ]
  },
  {
   "cell_type": "code",
   "execution_count": 15,
   "id": "ca0da8fc",
   "metadata": {},
   "outputs": [],
   "source": [
    "Players=[]\n",
    "ratings=[]\n",
    "teams=[]"
   ]
  },
  {
   "cell_type": "code",
   "execution_count": 17,
   "id": "21867a16",
   "metadata": {},
   "outputs": [],
   "source": [
    "player1=driver.find_element(By.XPATH,'//div[@class=\"rankings-block__banner--name-large\"]')\n",
    "Players.append(player1.text)"
   ]
  },
  {
   "cell_type": "code",
   "execution_count": 19,
   "id": "0880f156",
   "metadata": {},
   "outputs": [],
   "source": [
    "team1=team=driver.find_element(By.XPATH,'//div[@class=\"rankings-block__banner--nationality\"]')\n",
    "teams.append(team1.text.split('\\n')[0])"
   ]
  },
  {
   "cell_type": "code",
   "execution_count": 21,
   "id": "adb3a09e",
   "metadata": {},
   "outputs": [],
   "source": [
    "rating1=driver.find_element(By.XPATH,'//div[@class=\"rankings-block__banner--rating\"]')\n",
    "ratings.append(rating1.text)"
   ]
  },
  {
   "cell_type": "code",
   "execution_count": 22,
   "id": "1934d89f",
   "metadata": {},
   "outputs": [
    {
     "name": "stdout",
     "output_type": "stream",
     "text": [
      "['WI', 'ENG', 'AUS', 'SA', 'NZ', 'IND', 'AUS', 'AUS', 'PAK', 'IND']\n"
     ]
    }
   ],
   "source": [
    "team=driver.find_elements(By.XPATH,'//span[@class=\"table-body__logo-text\"]')\n",
    "for i in team[0:9]:\n",
    "    teams.append(i.text)\n",
    "print(teams)"
   ]
  },
  {
   "cell_type": "code",
   "execution_count": 24,
   "id": "1283eac2",
   "metadata": {},
   "outputs": [
    {
     "name": "stdout",
     "output_type": "stream",
     "text": [
      "['Hayley Matthews', 'Natalie Sciver', 'Ellyse Perry', 'Marizanne Kapp', 'Amelia Kerr', 'Deepti Sharma', 'Ashleigh Gardner', 'Jess Jonassen', 'Nida Dar', 'Jhulan Goswami']\n"
     ]
    }
   ],
   "source": [
    "player=driver.find_elements(By.XPATH,'//td[@class=\"table-body__cell rankings-table__name name\"]')\n",
    "for i in player[0:9]:\n",
    "    Players.append(i.text)\n",
    "print(Players)"
   ]
  },
  {
   "cell_type": "code",
   "execution_count": 25,
   "id": "409b312b",
   "metadata": {},
   "outputs": [
    {
     "name": "stdout",
     "output_type": "stream",
     "text": [
      "['373', '371', '366', '349', '336', '322', '292', '250', '232', '214']\n"
     ]
    }
   ],
   "source": [
    "rate=driver.find_elements(By.XPATH,'//td[@class=\"table-body__cell rating\"]')\n",
    "for i in rate[0:9]:\n",
    "    ratings.append(i.text)\n",
    "print(ratings)"
   ]
  },
  {
   "cell_type": "code",
   "execution_count": 26,
   "id": "7f05b5c0",
   "metadata": {},
   "outputs": [
    {
     "name": "stdout",
     "output_type": "stream",
     "text": [
      "10 10 10\n"
     ]
    }
   ],
   "source": [
    "print(len(teams),len(Players),len(ratings))"
   ]
  },
  {
   "cell_type": "code",
   "execution_count": 28,
   "id": "8cd9c795",
   "metadata": {},
   "outputs": [
    {
     "data": {
      "text/html": [
       "<div>\n",
       "<style scoped>\n",
       "    .dataframe tbody tr th:only-of-type {\n",
       "        vertical-align: middle;\n",
       "    }\n",
       "\n",
       "    .dataframe tbody tr th {\n",
       "        vertical-align: top;\n",
       "    }\n",
       "\n",
       "    .dataframe thead th {\n",
       "        text-align: right;\n",
       "    }\n",
       "</style>\n",
       "<table border=\"1\" class=\"dataframe\">\n",
       "  <thead>\n",
       "    <tr style=\"text-align: right;\">\n",
       "      <th></th>\n",
       "      <th>Players</th>\n",
       "      <th>Teams</th>\n",
       "      <th>Ratings</th>\n",
       "    </tr>\n",
       "  </thead>\n",
       "  <tbody>\n",
       "    <tr>\n",
       "      <th>0</th>\n",
       "      <td>Hayley Matthews</td>\n",
       "      <td>WI</td>\n",
       "      <td>373</td>\n",
       "    </tr>\n",
       "    <tr>\n",
       "      <th>1</th>\n",
       "      <td>Natalie Sciver</td>\n",
       "      <td>ENG</td>\n",
       "      <td>371</td>\n",
       "    </tr>\n",
       "    <tr>\n",
       "      <th>2</th>\n",
       "      <td>Ellyse Perry</td>\n",
       "      <td>AUS</td>\n",
       "      <td>366</td>\n",
       "    </tr>\n",
       "    <tr>\n",
       "      <th>3</th>\n",
       "      <td>Marizanne Kapp</td>\n",
       "      <td>SA</td>\n",
       "      <td>349</td>\n",
       "    </tr>\n",
       "    <tr>\n",
       "      <th>4</th>\n",
       "      <td>Amelia Kerr</td>\n",
       "      <td>NZ</td>\n",
       "      <td>336</td>\n",
       "    </tr>\n",
       "    <tr>\n",
       "      <th>5</th>\n",
       "      <td>Deepti Sharma</td>\n",
       "      <td>IND</td>\n",
       "      <td>322</td>\n",
       "    </tr>\n",
       "    <tr>\n",
       "      <th>6</th>\n",
       "      <td>Ashleigh Gardner</td>\n",
       "      <td>AUS</td>\n",
       "      <td>292</td>\n",
       "    </tr>\n",
       "    <tr>\n",
       "      <th>7</th>\n",
       "      <td>Jess Jonassen</td>\n",
       "      <td>AUS</td>\n",
       "      <td>250</td>\n",
       "    </tr>\n",
       "    <tr>\n",
       "      <th>8</th>\n",
       "      <td>Nida Dar</td>\n",
       "      <td>PAK</td>\n",
       "      <td>232</td>\n",
       "    </tr>\n",
       "    <tr>\n",
       "      <th>9</th>\n",
       "      <td>Jhulan Goswami</td>\n",
       "      <td>IND</td>\n",
       "      <td>214</td>\n",
       "    </tr>\n",
       "  </tbody>\n",
       "</table>\n",
       "</div>"
      ],
      "text/plain": [
       "            Players Teams Ratings\n",
       "0   Hayley Matthews    WI     373\n",
       "1    Natalie Sciver   ENG     371\n",
       "2      Ellyse Perry   AUS     366\n",
       "3    Marizanne Kapp    SA     349\n",
       "4       Amelia Kerr    NZ     336\n",
       "5     Deepti Sharma   IND     322\n",
       "6  Ashleigh Gardner   AUS     292\n",
       "7     Jess Jonassen   AUS     250\n",
       "8          Nida Dar   PAK     232\n",
       "9    Jhulan Goswami   IND     214"
      ]
     },
     "execution_count": 28,
     "metadata": {},
     "output_type": "execute_result"
    }
   ],
   "source": [
    "import pandas as pd\n",
    "data=pd.DataFrame({\"Players\":Players,\"Teams\":teams,\"Ratings\":ratings})\n",
    "data"
   ]
  },
  {
   "cell_type": "code",
   "execution_count": null,
   "id": "5a6344ff",
   "metadata": {},
   "outputs": [],
   "source": []
  }
 ],
 "metadata": {
  "kernelspec": {
   "display_name": "Python 3 (ipykernel)",
   "language": "python",
   "name": "python3"
  },
  "language_info": {
   "codemirror_mode": {
    "name": "ipython",
    "version": 3
   },
   "file_extension": ".py",
   "mimetype": "text/x-python",
   "name": "python",
   "nbconvert_exporter": "python",
   "pygments_lexer": "ipython3",
   "version": "3.9.13"
  }
 },
 "nbformat": 4,
 "nbformat_minor": 5
}
